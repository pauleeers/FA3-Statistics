{
  "nbformat": 4,
  "nbformat_minor": 0,
  "metadata": {
    "colab": {
      "provenance": [],
      "toc_visible": true
    },
    "kernelspec": {
      "name": "python3",
      "display_name": "Python 3"
    },
    "language_info": {
      "name": "python"
    }
  },
  "cells": [
    {
      "cell_type": "markdown",
      "source": [
        "#Cristobal - Midterm Exams"
      ],
      "metadata": {
        "id": "k4cu6L5GcrEZ"
      }
    },
    {
      "cell_type": "markdown",
      "source": [
        "#Importing libraries"
      ],
      "metadata": {
        "id": "L25PLBhJcv1N"
      }
    },
    {
      "cell_type": "code",
      "execution_count": 36,
      "metadata": {
        "id": "54YgJ--APQu6"
      },
      "outputs": [],
      "source": [
        "import pandas as pd\n",
        "import numpy as np\n",
        "import matplotlib.pyplot as plt\n",
        "import seaborn as sns\n",
        "from scipy import stats\n",
        "from scipy.stats import shapiro\n",
        "from scipy.stats import levene\n",
        "from statsmodels.stats.power import TTestIndPower"
      ]
    },
    {
      "cell_type": "markdown",
      "source": [
        "#Loading data"
      ],
      "metadata": {
        "id": "-VVfhKBBcyNh"
      }
    },
    {
      "cell_type": "code",
      "source": [
        "df = pd.read_csv('gender_data-fixed.csv')"
      ],
      "metadata": {
        "id": "n-ZvzA7-RBbN"
      },
      "execution_count": 5,
      "outputs": []
    },
    {
      "cell_type": "code",
      "source": [
        "df"
      ],
      "metadata": {
        "colab": {
          "base_uri": "https://localhost:8080/",
          "height": 423
        },
        "id": "vw346sllRMtq",
        "outputId": "af05650f-a84c-4557-9fd7-e0902862d8f1"
      },
      "execution_count": 6,
      "outputs": [
        {
          "output_type": "execute_result",
          "data": {
            "text/plain": [
              "    Gender  Hours\n",
              "0     Male     12\n",
              "1     Male      4\n",
              "2     Male     11\n",
              "3     Male     13\n",
              "4     Male     11\n",
              "..     ...    ...\n",
              "95  Female      9\n",
              "96  Female      8\n",
              "97  Female      9\n",
              "98  Female     12\n",
              "99  Female     11\n",
              "\n",
              "[100 rows x 2 columns]"
            ],
            "text/html": [
              "\n",
              "  <div id=\"df-43c37f64-2e17-41c7-8d4d-a936d94ca570\" class=\"colab-df-container\">\n",
              "    <div>\n",
              "<style scoped>\n",
              "    .dataframe tbody tr th:only-of-type {\n",
              "        vertical-align: middle;\n",
              "    }\n",
              "\n",
              "    .dataframe tbody tr th {\n",
              "        vertical-align: top;\n",
              "    }\n",
              "\n",
              "    .dataframe thead th {\n",
              "        text-align: right;\n",
              "    }\n",
              "</style>\n",
              "<table border=\"1\" class=\"dataframe\">\n",
              "  <thead>\n",
              "    <tr style=\"text-align: right;\">\n",
              "      <th></th>\n",
              "      <th>Gender</th>\n",
              "      <th>Hours</th>\n",
              "    </tr>\n",
              "  </thead>\n",
              "  <tbody>\n",
              "    <tr>\n",
              "      <th>0</th>\n",
              "      <td>Male</td>\n",
              "      <td>12</td>\n",
              "    </tr>\n",
              "    <tr>\n",
              "      <th>1</th>\n",
              "      <td>Male</td>\n",
              "      <td>4</td>\n",
              "    </tr>\n",
              "    <tr>\n",
              "      <th>2</th>\n",
              "      <td>Male</td>\n",
              "      <td>11</td>\n",
              "    </tr>\n",
              "    <tr>\n",
              "      <th>3</th>\n",
              "      <td>Male</td>\n",
              "      <td>13</td>\n",
              "    </tr>\n",
              "    <tr>\n",
              "      <th>4</th>\n",
              "      <td>Male</td>\n",
              "      <td>11</td>\n",
              "    </tr>\n",
              "    <tr>\n",
              "      <th>...</th>\n",
              "      <td>...</td>\n",
              "      <td>...</td>\n",
              "    </tr>\n",
              "    <tr>\n",
              "      <th>95</th>\n",
              "      <td>Female</td>\n",
              "      <td>9</td>\n",
              "    </tr>\n",
              "    <tr>\n",
              "      <th>96</th>\n",
              "      <td>Female</td>\n",
              "      <td>8</td>\n",
              "    </tr>\n",
              "    <tr>\n",
              "      <th>97</th>\n",
              "      <td>Female</td>\n",
              "      <td>9</td>\n",
              "    </tr>\n",
              "    <tr>\n",
              "      <th>98</th>\n",
              "      <td>Female</td>\n",
              "      <td>12</td>\n",
              "    </tr>\n",
              "    <tr>\n",
              "      <th>99</th>\n",
              "      <td>Female</td>\n",
              "      <td>11</td>\n",
              "    </tr>\n",
              "  </tbody>\n",
              "</table>\n",
              "<p>100 rows × 2 columns</p>\n",
              "</div>\n",
              "    <div class=\"colab-df-buttons\">\n",
              "\n",
              "  <div class=\"colab-df-container\">\n",
              "    <button class=\"colab-df-convert\" onclick=\"convertToInteractive('df-43c37f64-2e17-41c7-8d4d-a936d94ca570')\"\n",
              "            title=\"Convert this dataframe to an interactive table.\"\n",
              "            style=\"display:none;\">\n",
              "\n",
              "  <svg xmlns=\"http://www.w3.org/2000/svg\" height=\"24px\" viewBox=\"0 -960 960 960\">\n",
              "    <path d=\"M120-120v-720h720v720H120Zm60-500h600v-160H180v160Zm220 220h160v-160H400v160Zm0 220h160v-160H400v160ZM180-400h160v-160H180v160Zm440 0h160v-160H620v160ZM180-180h160v-160H180v160Zm440 0h160v-160H620v160Z\"/>\n",
              "  </svg>\n",
              "    </button>\n",
              "\n",
              "  <style>\n",
              "    .colab-df-container {\n",
              "      display:flex;\n",
              "      gap: 12px;\n",
              "    }\n",
              "\n",
              "    .colab-df-convert {\n",
              "      background-color: #E8F0FE;\n",
              "      border: none;\n",
              "      border-radius: 50%;\n",
              "      cursor: pointer;\n",
              "      display: none;\n",
              "      fill: #1967D2;\n",
              "      height: 32px;\n",
              "      padding: 0 0 0 0;\n",
              "      width: 32px;\n",
              "    }\n",
              "\n",
              "    .colab-df-convert:hover {\n",
              "      background-color: #E2EBFA;\n",
              "      box-shadow: 0px 1px 2px rgba(60, 64, 67, 0.3), 0px 1px 3px 1px rgba(60, 64, 67, 0.15);\n",
              "      fill: #174EA6;\n",
              "    }\n",
              "\n",
              "    .colab-df-buttons div {\n",
              "      margin-bottom: 4px;\n",
              "    }\n",
              "\n",
              "    [theme=dark] .colab-df-convert {\n",
              "      background-color: #3B4455;\n",
              "      fill: #D2E3FC;\n",
              "    }\n",
              "\n",
              "    [theme=dark] .colab-df-convert:hover {\n",
              "      background-color: #434B5C;\n",
              "      box-shadow: 0px 1px 3px 1px rgba(0, 0, 0, 0.15);\n",
              "      filter: drop-shadow(0px 1px 2px rgba(0, 0, 0, 0.3));\n",
              "      fill: #FFFFFF;\n",
              "    }\n",
              "  </style>\n",
              "\n",
              "    <script>\n",
              "      const buttonEl =\n",
              "        document.querySelector('#df-43c37f64-2e17-41c7-8d4d-a936d94ca570 button.colab-df-convert');\n",
              "      buttonEl.style.display =\n",
              "        google.colab.kernel.accessAllowed ? 'block' : 'none';\n",
              "\n",
              "      async function convertToInteractive(key) {\n",
              "        const element = document.querySelector('#df-43c37f64-2e17-41c7-8d4d-a936d94ca570');\n",
              "        const dataTable =\n",
              "          await google.colab.kernel.invokeFunction('convertToInteractive',\n",
              "                                                    [key], {});\n",
              "        if (!dataTable) return;\n",
              "\n",
              "        const docLinkHtml = 'Like what you see? Visit the ' +\n",
              "          '<a target=\"_blank\" href=https://colab.research.google.com/notebooks/data_table.ipynb>data table notebook</a>'\n",
              "          + ' to learn more about interactive tables.';\n",
              "        element.innerHTML = '';\n",
              "        dataTable['output_type'] = 'display_data';\n",
              "        await google.colab.output.renderOutput(dataTable, element);\n",
              "        const docLink = document.createElement('div');\n",
              "        docLink.innerHTML = docLinkHtml;\n",
              "        element.appendChild(docLink);\n",
              "      }\n",
              "    </script>\n",
              "  </div>\n",
              "\n",
              "\n",
              "<div id=\"df-37db636c-7f12-40cd-8fdd-21e7781a72f2\">\n",
              "  <button class=\"colab-df-quickchart\" onclick=\"quickchart('df-37db636c-7f12-40cd-8fdd-21e7781a72f2')\"\n",
              "            title=\"Suggest charts\"\n",
              "            style=\"display:none;\">\n",
              "\n",
              "<svg xmlns=\"http://www.w3.org/2000/svg\" height=\"24px\"viewBox=\"0 0 24 24\"\n",
              "     width=\"24px\">\n",
              "    <g>\n",
              "        <path d=\"M19 3H5c-1.1 0-2 .9-2 2v14c0 1.1.9 2 2 2h14c1.1 0 2-.9 2-2V5c0-1.1-.9-2-2-2zM9 17H7v-7h2v7zm4 0h-2V7h2v10zm4 0h-2v-4h2v4z\"/>\n",
              "    </g>\n",
              "</svg>\n",
              "  </button>\n",
              "\n",
              "<style>\n",
              "  .colab-df-quickchart {\n",
              "      --bg-color: #E8F0FE;\n",
              "      --fill-color: #1967D2;\n",
              "      --hover-bg-color: #E2EBFA;\n",
              "      --hover-fill-color: #174EA6;\n",
              "      --disabled-fill-color: #AAA;\n",
              "      --disabled-bg-color: #DDD;\n",
              "  }\n",
              "\n",
              "  [theme=dark] .colab-df-quickchart {\n",
              "      --bg-color: #3B4455;\n",
              "      --fill-color: #D2E3FC;\n",
              "      --hover-bg-color: #434B5C;\n",
              "      --hover-fill-color: #FFFFFF;\n",
              "      --disabled-bg-color: #3B4455;\n",
              "      --disabled-fill-color: #666;\n",
              "  }\n",
              "\n",
              "  .colab-df-quickchart {\n",
              "    background-color: var(--bg-color);\n",
              "    border: none;\n",
              "    border-radius: 50%;\n",
              "    cursor: pointer;\n",
              "    display: none;\n",
              "    fill: var(--fill-color);\n",
              "    height: 32px;\n",
              "    padding: 0;\n",
              "    width: 32px;\n",
              "  }\n",
              "\n",
              "  .colab-df-quickchart:hover {\n",
              "    background-color: var(--hover-bg-color);\n",
              "    box-shadow: 0 1px 2px rgba(60, 64, 67, 0.3), 0 1px 3px 1px rgba(60, 64, 67, 0.15);\n",
              "    fill: var(--button-hover-fill-color);\n",
              "  }\n",
              "\n",
              "  .colab-df-quickchart-complete:disabled,\n",
              "  .colab-df-quickchart-complete:disabled:hover {\n",
              "    background-color: var(--disabled-bg-color);\n",
              "    fill: var(--disabled-fill-color);\n",
              "    box-shadow: none;\n",
              "  }\n",
              "\n",
              "  .colab-df-spinner {\n",
              "    border: 2px solid var(--fill-color);\n",
              "    border-color: transparent;\n",
              "    border-bottom-color: var(--fill-color);\n",
              "    animation:\n",
              "      spin 1s steps(1) infinite;\n",
              "  }\n",
              "\n",
              "  @keyframes spin {\n",
              "    0% {\n",
              "      border-color: transparent;\n",
              "      border-bottom-color: var(--fill-color);\n",
              "      border-left-color: var(--fill-color);\n",
              "    }\n",
              "    20% {\n",
              "      border-color: transparent;\n",
              "      border-left-color: var(--fill-color);\n",
              "      border-top-color: var(--fill-color);\n",
              "    }\n",
              "    30% {\n",
              "      border-color: transparent;\n",
              "      border-left-color: var(--fill-color);\n",
              "      border-top-color: var(--fill-color);\n",
              "      border-right-color: var(--fill-color);\n",
              "    }\n",
              "    40% {\n",
              "      border-color: transparent;\n",
              "      border-right-color: var(--fill-color);\n",
              "      border-top-color: var(--fill-color);\n",
              "    }\n",
              "    60% {\n",
              "      border-color: transparent;\n",
              "      border-right-color: var(--fill-color);\n",
              "    }\n",
              "    80% {\n",
              "      border-color: transparent;\n",
              "      border-right-color: var(--fill-color);\n",
              "      border-bottom-color: var(--fill-color);\n",
              "    }\n",
              "    90% {\n",
              "      border-color: transparent;\n",
              "      border-bottom-color: var(--fill-color);\n",
              "    }\n",
              "  }\n",
              "</style>\n",
              "\n",
              "  <script>\n",
              "    async function quickchart(key) {\n",
              "      const quickchartButtonEl =\n",
              "        document.querySelector('#' + key + ' button');\n",
              "      quickchartButtonEl.disabled = true;  // To prevent multiple clicks.\n",
              "      quickchartButtonEl.classList.add('colab-df-spinner');\n",
              "      try {\n",
              "        const charts = await google.colab.kernel.invokeFunction(\n",
              "            'suggestCharts', [key], {});\n",
              "      } catch (error) {\n",
              "        console.error('Error during call to suggestCharts:', error);\n",
              "      }\n",
              "      quickchartButtonEl.classList.remove('colab-df-spinner');\n",
              "      quickchartButtonEl.classList.add('colab-df-quickchart-complete');\n",
              "    }\n",
              "    (() => {\n",
              "      let quickchartButtonEl =\n",
              "        document.querySelector('#df-37db636c-7f12-40cd-8fdd-21e7781a72f2 button');\n",
              "      quickchartButtonEl.style.display =\n",
              "        google.colab.kernel.accessAllowed ? 'block' : 'none';\n",
              "    })();\n",
              "  </script>\n",
              "</div>\n",
              "    </div>\n",
              "  </div>\n"
            ]
          },
          "metadata": {},
          "execution_count": 6
        }
      ]
    },
    {
      "cell_type": "code",
      "source": [
        "plt.figure(figsize=(12, 6))\n",
        "sns.histplot(data=df, x='Hours', hue='Gender', element='step', stat='density', common_norm=False)\n",
        "plt.title('Distribution of Cell Phone Usage by Gender')\n",
        "plt.xlabel('Hours Spent on Cell Phone')\n",
        "plt.ylabel('Density')\n",
        "plt.show()"
      ],
      "metadata": {
        "colab": {
          "base_uri": "https://localhost:8080/",
          "height": 564
        },
        "id": "2N_mWQVRjrCa",
        "outputId": "ceb90a91-7f5c-4cfc-bdbd-47cbc32bacfd"
      },
      "execution_count": 37,
      "outputs": [
        {
          "output_type": "display_data",
          "data": {
            "text/plain": [
              "<Figure size 1200x600 with 1 Axes>"
            ],
            "image/png": "[encoded data removed]"
          },
          "metadata": {}
        }
      ]
    },
    {
      "cell_type": "markdown",
      "source": [
        "#Establishing Null Hypothesis(H0) and Alternative Hypothesis(H1)"
      ],
      "metadata": {
        "id": "-1zqg2XWc0fI"
      }
    },
    {
      "cell_type": "markdown",
      "source": [
        "Null Hypothesis (H0): The mean time spent on cell phones by male and female students per week is equal.\n",
        "\n",
        "Alternative Hypothesis (H1): The mean time spent on cell phones by male and female students per week is not equal."
      ],
      "metadata": {
        "id": "lwVTTC0Uc9gN"
      }
    },
    {
      "cell_type": "code",
      "source": [
        "male_hours = df[df['Gender'] == 'Male']['Hours']\n",
        "female_hours = df[df['Gender'] == 'Female']['Hours']"
      ],
      "metadata": {
        "id": "5E5Qe3lPRsnP"
      },
      "execution_count": 7,
      "outputs": []
    },
    {
      "cell_type": "markdown",
      "source": [
        "#Assumptions"
      ],
      "metadata": {
        "id": "Gs2w5Y4TdH7v"
      }
    },
    {
      "cell_type": "markdown",
      "source": [
        "##Normality\n"
      ],
      "metadata": {
        "id": "ZOp21_87dJXA"
      }
    },
    {
      "cell_type": "code",
      "source": [
        "stat, p_male = shapiro(male_hours)\n",
        "print('Statistics=%.3f, p=%.3f' % (stat, p_male))\n",
        "alpha = 0.05\n",
        "if p_male > alpha:\n",
        "    print('Male hours look Gaussian (fail to reject H0)')\n",
        "else:\n",
        "    print('Male hours do not look Gaussian (reject H0)')\n",
        "\n",
        "stat, p_female = shapiro(female_hours)\n",
        "print('Statistics=%.3f, p=%.3f' % (stat, p_female))\n",
        "if p_female > alpha:\n",
        "    print('Female hours look Gaussian (fail to reject H0)')\n",
        "else:\n",
        "    print('Female hours do not look Gaussian (reject H0)')"
      ],
      "metadata": {
        "colab": {
          "base_uri": "https://localhost:8080/"
        },
        "id": "vM9QLlSRbJlY",
        "outputId": "41a3eda2-1b7d-4ab0-fdae-83560bb4489a"
      },
      "execution_count": 30,
      "outputs": [
        {
          "output_type": "stream",
          "name": "stdout",
          "text": [
            "Statistics=0.975, p=0.354\n",
            "Male hours look Gaussian (fail to reject H0)\n",
            "Statistics=0.964, p=0.129\n",
            "Female hours look Gaussian (fail to reject H0)\n"
          ]
        }
      ]
    },
    {
      "cell_type": "code",
      "source": [
        "# Normality check for male hours\n",
        "plt.figure(figsize=(8, 6))\n",
        "stats.probplot(df[df['Gender'] == 'Male']['Hours'], dist=\"norm\", plot=plt)\n",
        "plt.title('Q-Q Plot for Male Students')\n",
        "plt.show()\n",
        "\n",
        "# Normality check for female hours\n",
        "plt.figure(figsize=(8, 6))\n",
        "stats.probplot(df[df['Gender'] == 'Female']['Hours'], dist=\"norm\", plot=plt)\n",
        "plt.title('Q-Q Plot for Female Students')\n",
        "plt.show()"
      ],
      "metadata": {
        "colab": {
          "base_uri": "https://localhost:8080/",
          "height": 1000
        },
        "id": "EdcOz7rqj-Bp",
        "outputId": "e6908e13-5b56-4de8-86a7-7a7f2934a085"
      },
      "execution_count": 40,
      "outputs": [
        {
          "output_type": "display_data",
          "data": {
            "text/plain": [
              "<Figure size 800x600 with 1 Axes>"
            ],
            "image/png": "[encoded data removed]"
          },
          "metadata": {}
        },
        {
          "output_type": "display_data",
          "data": {
            "text/plain": [
              "<Figure size 800x600 with 1 Axes>"
            ],
            "image/png": "[encoded data removed]"
          },
          "metadata": {}
        }
      ]
    },
    {
      "cell_type": "markdown",
      "source": [
        "##Testing Equality of Variance"
      ],
      "metadata": {
        "id": "aFiuEQkndRWk"
      }
    },
    {
      "cell_type": "code",
      "source": [
        "# Test for equality of variances\n",
        "stat, p_var = levene(male_hours, female_hours)\n",
        "print('Statistics=%.3f, p=%.3f' % (stat, p_var))\n",
        "\n",
        "if p_var > alpha:\n",
        "    print('The variances are equal (fail to reject H0)')\n",
        "else:\n",
        "    print('The variances are not equal (reject H0)')"
      ],
      "metadata": {
        "colab": {
          "base_uri": "https://localhost:8080/"
        },
        "id": "yN1P2WMPbO2_",
        "outputId": "071143f6-2754-48e9-d357-94a3804a1140"
      },
      "execution_count": 31,
      "outputs": [
        {
          "output_type": "stream",
          "name": "stdout",
          "text": [
            "Statistics=0.694, p=0.407\n",
            "The variances are equal (fail to reject H0)\n"
          ]
        }
      ]
    },
    {
      "cell_type": "markdown",
      "source": [
        "#T-test"
      ],
      "metadata": {
        "id": "9dWZSRRYdcHn"
      }
    },
    {
      "cell_type": "code",
      "source": [
        "t_stat, p_value = stats.ttest_ind(male_hours, female_hours)\n",
        "print(f\"T-statistic: {0.30394907866566184:.3f}\")\n",
        "print(f\"P-value: {0.7618111039906375:.3f}\")"
      ],
      "metadata": {
        "colab": {
          "base_uri": "https://localhost:8080/"
        },
        "id": "jNywRQNsRtUu",
        "outputId": "3b680cae-e719-40aa-a238-9b8164f659ca"
      },
      "execution_count": 34,
      "outputs": [
        {
          "output_type": "stream",
          "name": "stdout",
          "text": [
            "T-statistic: 0.304\n",
            "P-value: 0.762\n"
          ]
        }
      ]
    },
    {
      "cell_type": "markdown",
      "source": [
        "Fail to reject the null hypothesis.\n",
        "\n",
        "Based on the sample data, there is no statistically significant difference in the mean time spent on cell phones by male and female students per week.\n",
        "\n",
        "The analysis did not find a significant difference in cell phone usage between male and female college students. This suggests that any observed differences in the sample are likely due to random chance rather than a systematic difference between the groups. Therefore, we recommend that the current evidence does not support taking any gender-specific actions or policies regarding cell phone usage among students.\n",
        "    "
      ],
      "metadata": {
        "id": "750dU6tWdjuu"
      }
    },
    {
      "cell_type": "markdown",
      "source": [
        "#Descriptive Statistics"
      ],
      "metadata": {
        "id": "FFKJBkcwd7g6"
      }
    },
    {
      "cell_type": "code",
      "source": [
        "descriptive_stats = pd.DataFrame({\n",
        "    'Male': df[df['Gender'] == 'Male']['Hours'].describe(),\n",
        "    'Female': df[df['Gender'] == 'Female']['Hours'].describe()\n",
        "})\n",
        "\n",
        "formatted_stats = descriptive_stats.applymap(\"{0:.2f}\".format)\n",
        "formatted_stats"
      ],
      "metadata": {
        "colab": {
          "base_uri": "https://localhost:8080/",
          "height": 300
        },
        "id": "fMeV0DyBT67B",
        "outputId": "0ae583bd-3b72-45ea-f51d-da0df340b46b"
      },
      "execution_count": 14,
      "outputs": [
        {
          "output_type": "execute_result",
          "data": {
            "text/plain": [
              "        Male Female\n",
              "count  50.00  50.00\n",
              "mean    9.82   9.70\n",
              "std     2.15   1.78\n",
              "min     4.00   6.00\n",
              "25%     9.00   9.00\n",
              "50%    10.00   9.50\n",
              "75%    11.00  11.00\n",
              "max    15.00  14.00"
            ],
            "text/html": [
              "\n",
              "  <div id=\"df-3142688d-7df5-4869-a8ea-cf174f52ac92\" class=\"colab-df-container\">\n",
              "    <div>\n",
              "<style scoped>\n",
              "    .dataframe tbody tr th:only-of-type {\n",
              "        vertical-align: middle;\n",
              "    }\n",
              "\n",
              "    .dataframe tbody tr th {\n",
              "        vertical-align: top;\n",
              "    }\n",
              "\n",
              "    .dataframe thead th {\n",
              "        text-align: right;\n",
              "    }\n",
              "</style>\n",
              "<table border=\"1\" class=\"dataframe\">\n",
              "  <thead>\n",
              "    <tr style=\"text-align: right;\">\n",
              "      <th></th>\n",
              "      <th>Male</th>\n",
              "      <th>Female</th>\n",
              "    </tr>\n",
              "  </thead>\n",
              "  <tbody>\n",
              "    <tr>\n",
              "      <th>count</th>\n",
              "      <td>50.00</td>\n",
              "      <td>50.00</td>\n",
              "    </tr>\n",
              "    <tr>\n",
              "      <th>mean</th>\n",
              "      <td>9.82</td>\n",
              "      <td>9.70</td>\n",
              "    </tr>\n",
              "    <tr>\n",
              "      <th>std</th>\n",
              "      <td>2.15</td>\n",
              "      <td>1.78</td>\n",
              "    </tr>\n",
              "    <tr>\n",
              "      <th>min</th>\n",
              "      <td>4.00</td>\n",
              "      <td>6.00</td>\n",
              "    </tr>\n",
              "    <tr>\n",
              "      <th>25%</th>\n",
              "      <td>9.00</td>\n",
              "      <td>9.00</td>\n",
              "    </tr>\n",
              "    <tr>\n",
              "      <th>50%</th>\n",
              "      <td>10.00</td>\n",
              "      <td>9.50</td>\n",
              "    </tr>\n",
              "    <tr>\n",
              "      <th>75%</th>\n",
              "      <td>11.00</td>\n",
              "      <td>11.00</td>\n",
              "    </tr>\n",
              "    <tr>\n",
              "      <th>max</th>\n",
              "      <td>15.00</td>\n",
              "      <td>14.00</td>\n",
              "    </tr>\n",
              "  </tbody>\n",
              "</table>\n",
              "</div>\n",
              "    <div class=\"colab-df-buttons\">\n",
              "\n",
              "  <div class=\"colab-df-container\">\n",
              "    <button class=\"colab-df-convert\" onclick=\"convertToInteractive('df-3142688d-7df5-4869-a8ea-cf174f52ac92')\"\n",
              "            title=\"Convert this dataframe to an interactive table.\"\n",
              "            style=\"display:none;\">\n",
              "\n",
              "  <svg xmlns=\"http://www.w3.org/2000/svg\" height=\"24px\" viewBox=\"0 -960 960 960\">\n",
              "    <path d=\"M120-120v-720h720v720H120Zm60-500h600v-160H180v160Zm220 220h160v-160H400v160Zm0 220h160v-160H400v160ZM180-400h160v-160H180v160Zm440 0h160v-160H620v160ZM180-180h160v-160H180v160Zm440 0h160v-160H620v160Z\"/>\n",
              "  </svg>\n",
              "    </button>\n",
              "\n",
              "  <style>\n",
              "    .colab-df-container {\n",
              "      display:flex;\n",
              "      gap: 12px;\n",
              "    }\n",
              "\n",
              "    .colab-df-convert {\n",
              "      background-color: #E8F0FE;\n",
              "      border: none;\n",
              "      border-radius: 50%;\n",
              "      cursor: pointer;\n",
              "      display: none;\n",
              "      fill: #1967D2;\n",
              "      height: 32px;\n",
              "      padding: 0 0 0 0;\n",
              "      width: 32px;\n",
              "    }\n",
              "\n",
              "    .colab-df-convert:hover {\n",
              "      background-color: #E2EBFA;\n",
              "      box-shadow: 0px 1px 2px rgba(60, 64, 67, 0.3), 0px 1px 3px 1px rgba(60, 64, 67, 0.15);\n",
              "      fill: #174EA6;\n",
              "    }\n",
              "\n",
              "    .colab-df-buttons div {\n",
              "      margin-bottom: 4px;\n",
              "    }\n",
              "\n",
              "    [theme=dark] .colab-df-convert {\n",
              "      background-color: #3B4455;\n",
              "      fill: #D2E3FC;\n",
              "    }\n",
              "\n",
              "    [theme=dark] .colab-df-convert:hover {\n",
              "      background-color: #434B5C;\n",
              "      box-shadow: 0px 1px 3px 1px rgba(0, 0, 0, 0.15);\n",
              "      filter: drop-shadow(0px 1px 2px rgba(0, 0, 0, 0.3));\n",
              "      fill: #FFFFFF;\n",
              "    }\n",
              "  </style>\n",
              "\n",
              "    <script>\n",
              "      const buttonEl =\n",
              "        document.querySelector('#df-3142688d-7df5-4869-a8ea-cf174f52ac92 button.colab-df-convert');\n",
              "      buttonEl.style.display =\n",
              "        google.colab.kernel.accessAllowed ? 'block' : 'none';\n",
              "\n",
              "      async function convertToInteractive(key) {\n",
              "        const element = document.querySelector('#df-3142688d-7df5-4869-a8ea-cf174f52ac92');\n",
              "        const dataTable =\n",
              "          await google.colab.kernel.invokeFunction('convertToInteractive',\n",
              "                                                    [key], {});\n",
              "        if (!dataTable) return;\n",
              "\n",
              "        const docLinkHtml = 'Like what you see? Visit the ' +\n",
              "          '<a target=\"_blank\" href=https://colab.research.google.com/notebooks/data_table.ipynb>data table notebook</a>'\n",
              "          + ' to learn more about interactive tables.';\n",
              "        element.innerHTML = '';\n",
              "        dataTable['output_type'] = 'display_data';\n",
              "        await google.colab.output.renderOutput(dataTable, element);\n",
              "        const docLink = document.createElement('div');\n",
              "        docLink.innerHTML = docLinkHtml;\n",
              "        element.appendChild(docLink);\n",
              "      }\n",
              "    </script>\n",
              "  </div>\n",
              "\n",
              "\n",
              "<div id=\"df-aa4f4b51-4536-46f3-ac55-62491f13a6db\">\n",
              "  <button class=\"colab-df-quickchart\" onclick=\"quickchart('df-aa4f4b51-4536-46f3-ac55-62491f13a6db')\"\n",
              "            title=\"Suggest charts\"\n",
              "            style=\"display:none;\">\n",
              "\n",
              "<svg xmlns=\"http://www.w3.org/2000/svg\" height=\"24px\"viewBox=\"0 0 24 24\"\n",
              "     width=\"24px\">\n",
              "    <g>\n",
              "        <path d=\"M19 3H5c-1.1 0-2 .9-2 2v14c0 1.1.9 2 2 2h14c1.1 0 2-.9 2-2V5c0-1.1-.9-2-2-2zM9 17H7v-7h2v7zm4 0h-2V7h2v10zm4 0h-2v-4h2v4z\"/>\n",
              "    </g>\n",
              "</svg>\n",
              "  </button>\n",
              "\n",
              "<style>\n",
              "  .colab-df-quickchart {\n",
              "      --bg-color: #E8F0FE;\n",
              "      --fill-color: #1967D2;\n",
              "      --hover-bg-color: #E2EBFA;\n",
              "      --hover-fill-color: #174EA6;\n",
              "      --disabled-fill-color: #AAA;\n",
              "      --disabled-bg-color: #DDD;\n",
              "  }\n",
              "\n",
              "  [theme=dark] .colab-df-quickchart {\n",
              "      --bg-color: #3B4455;\n",
              "      --fill-color: #D2E3FC;\n",
              "      --hover-bg-color: #434B5C;\n",
              "      --hover-fill-color: #FFFFFF;\n",
              "      --disabled-bg-color: #3B4455;\n",
              "      --disabled-fill-color: #666;\n",
              "  }\n",
              "\n",
              "  .colab-df-quickchart {\n",
              "    background-color: var(--bg-color);\n",
              "    border: none;\n",
              "    border-radius: 50%;\n",
              "    cursor: pointer;\n",
              "    display: none;\n",
              "    fill: var(--fill-color);\n",
              "    height: 32px;\n",
              "    padding: 0;\n",
              "    width: 32px;\n",
              "  }\n",
              "\n",
              "  .colab-df-quickchart:hover {\n",
              "    background-color: var(--hover-bg-color);\n",
              "    box-shadow: 0 1px 2px rgba(60, 64, 67, 0.3), 0 1px 3px 1px rgba(60, 64, 67, 0.15);\n",
              "    fill: var(--button-hover-fill-color);\n",
              "  }\n",
              "\n",
              "  .colab-df-quickchart-complete:disabled,\n",
              "  .colab-df-quickchart-complete:disabled:hover {\n",
              "    background-color: var(--disabled-bg-color);\n",
              "    fill: var(--disabled-fill-color);\n",
              "    box-shadow: none;\n",
              "  }\n",
              "\n",
              "  .colab-df-spinner {\n",
              "    border: 2px solid var(--fill-color);\n",
              "    border-color: transparent;\n",
              "    border-bottom-color: var(--fill-color);\n",
              "    animation:\n",
              "      spin 1s steps(1) infinite;\n",
              "  }\n",
              "\n",
              "  @keyframes spin {\n",
              "    0% {\n",
              "      border-color: transparent;\n",
              "      border-bottom-color: var(--fill-color);\n",
              "      border-left-color: var(--fill-color);\n",
              "    }\n",
              "    20% {\n",
              "      border-color: transparent;\n",
              "      border-left-color: var(--fill-color);\n",
              "      border-top-color: var(--fill-color);\n",
              "    }\n",
              "    30% {\n",
              "      border-color: transparent;\n",
              "      border-left-color: var(--fill-color);\n",
              "      border-top-color: var(--fill-color);\n",
              "      border-right-color: var(--fill-color);\n",
              "    }\n",
              "    40% {\n",
              "      border-color: transparent;\n",
              "      border-right-color: var(--fill-color);\n",
              "      border-top-color: var(--fill-color);\n",
              "    }\n",
              "    60% {\n",
              "      border-color: transparent;\n",
              "      border-right-color: var(--fill-color);\n",
              "    }\n",
              "    80% {\n",
              "      border-color: transparent;\n",
              "      border-right-color: var(--fill-color);\n",
              "      border-bottom-color: var(--fill-color);\n",
              "    }\n",
              "    90% {\n",
              "      border-color: transparent;\n",
              "      border-bottom-color: var(--fill-color);\n",
              "    }\n",
              "  }\n",
              "</style>\n",
              "\n",
              "  <script>\n",
              "    async function quickchart(key) {\n",
              "      const quickchartButtonEl =\n",
              "        document.querySelector('#' + key + ' button');\n",
              "      quickchartButtonEl.disabled = true;  // To prevent multiple clicks.\n",
              "      quickchartButtonEl.classList.add('colab-df-spinner');\n",
              "      try {\n",
              "        const charts = await google.colab.kernel.invokeFunction(\n",
              "            'suggestCharts', [key], {});\n",
              "      } catch (error) {\n",
              "        console.error('Error during call to suggestCharts:', error);\n",
              "      }\n",
              "      quickchartButtonEl.classList.remove('colab-df-spinner');\n",
              "      quickchartButtonEl.classList.add('colab-df-quickchart-complete');\n",
              "    }\n",
              "    (() => {\n",
              "      let quickchartButtonEl =\n",
              "        document.querySelector('#df-aa4f4b51-4536-46f3-ac55-62491f13a6db button');\n",
              "      quickchartButtonEl.style.display =\n",
              "        google.colab.kernel.accessAllowed ? 'block' : 'none';\n",
              "    })();\n",
              "  </script>\n",
              "</div>\n",
              "    </div>\n",
              "  </div>\n"
            ]
          },
          "metadata": {},
          "execution_count": 14
        }
      ]
    },
    {
      "cell_type": "code",
      "source": [
        "plt.figure(figsize=(12, 6))\n",
        "sns.boxplot(x='Gender', y='Hours', data=df)\n",
        "plt.title('Cell Phone Usage by Gender')\n",
        "plt.xlabel('Gender')\n",
        "plt.ylabel('Hours Spent on Cell Phone')\n",
        "plt.show()"
      ],
      "metadata": {
        "colab": {
          "base_uri": "https://localhost:8080/",
          "height": 564
        },
        "id": "s7ISHtLnj0ot",
        "outputId": "f315f01e-e0a4-4be2-a545-26da1b8ec2e0"
      },
      "execution_count": 38,
      "outputs": [
        {
          "output_type": "display_data",
          "data": {
            "text/plain": [
              "<Figure size 1200x600 with 1 Axes>"
            ],
            "image/png": "[encoded data removed]"
          },
          "metadata": {}
        }
      ]
    },
    {
      "cell_type": "markdown",
      "source": [
        "#Confidence Intervals"
      ],
      "metadata": {
        "id": "u40yPVU2eB5e"
      }
    },
    {
      "cell_type": "markdown",
      "source": [
        "Here we tackle the 95% confidence intervals for the mean times. The 95% confidence interval gives a range of values which is likely to contain the population mean with a confidence of 95%."
      ],
      "metadata": {
        "id": "L-ofaGpEeLgW"
      }
    },
    {
      "cell_type": "markdown",
      "source": [
        "##Males"
      ],
      "metadata": {
        "id": "eAqzNf94eECQ"
      }
    },
    {
      "cell_type": "code",
      "source": [
        "male_mean = male_hours.mean()\n",
        "male_std = male_hours.std()\n",
        "male_n = len(male_hours)\n",
        "male_conf_interval = stats.t.interval(0.95, male_n-1, loc=male_mean, scale=male_std/np.sqrt(male_n))"
      ],
      "metadata": {
        "id": "21qxmqO2URsM"
      },
      "execution_count": 17,
      "outputs": []
    },
    {
      "cell_type": "markdown",
      "source": [
        "##Females"
      ],
      "metadata": {
        "id": "kL8ZU6q0eFO2"
      }
    },
    {
      "cell_type": "code",
      "source": [
        "female_mean = female_hours.mean()\n",
        "female_std = female_hours.std()\n",
        "female_n = len(female_hours)\n",
        "female_conf_interval = stats.t.interval(0.95, female_n-1, loc=female_mean, scale=female_std/np.sqrt(female_n))"
      ],
      "metadata": {
        "id": "sIcvlDv-UtGF"
      },
      "execution_count": 18,
      "outputs": []
    },
    {
      "cell_type": "code",
      "source": [
        "mean_hours_by_gender = df.groupby('Gender')['Hours'].mean()\n",
        "conf_intervals = {\n",
        "    'Male': male_conf_interval,\n",
        "    'Female': female_conf_interval\n",
        "}\n",
        "sns.set_style('whitegrid')\n",
        "plt.figure(figsize=(8, 6))\n",
        "(mean_hours_by_gender).plot.bar(yerr={\n",
        "    'Male': ((mean_hours_by_gender['Male'] - conf_intervals['Male'][0]),\n",
        "             (conf_intervals['Male'][1] - mean_hours_by_gender['Male'])),\n",
        "    'Female': ((mean_hours_by_gender['Female'] - conf_intervals['Female'][0]),\n",
        "               (conf_intervals['Female'][1] - mean_hours_by_gender['Female']))\n",
        "}, capsize=4)\n",
        "plt.title('Mean Cell Phone Usage with 95% Confidence Intervals by Gender')\n",
        "plt.xlabel('Gender')\n",
        "plt.ylabel('Mean Hours')\n",
        "plt.show()"
      ],
      "metadata": {
        "colab": {
          "base_uri": "https://localhost:8080/",
          "height": 600
        },
        "id": "ViajLU4vkPg4",
        "outputId": "f8bf5329-43cd-47dd-dcd2-438b15147a70"
      },
      "execution_count": 43,
      "outputs": [
        {
          "output_type": "display_data",
          "data": {
            "text/plain": [
              "<Figure size 800x600 with 1 Axes>"
            ],
            "image/png": "[encoded data removed]"
          },
          "metadata": {}
        }
      ]
    },
    {
      "cell_type": "markdown",
      "source": [
        "##Confidence interval for the difference between the means."
      ],
      "metadata": {
        "id": "ovsOAHSPegR6"
      }
    },
    {
      "cell_type": "code",
      "source": [
        "ci_low, ci_high = stats.t.interval(0.95, male_n + female_n - 2,\n",
        "                                   loc=(male_mean - female_mean),\n",
        "                                   scale=stats.sem(np.concatenate((male_hours, female_hours))))"
      ],
      "metadata": {
        "id": "-H-xaFlWUzSA"
      },
      "execution_count": 19,
      "outputs": []
    },
    {
      "cell_type": "code",
      "source": [
        "print(f\"CI - Males: ({male_conf_interval[0]:.3f}, {male_conf_interval[1]:.3f})\")\n",
        "print(f\"CI - Females: ({female_conf_interval[0]:.3f}, {female_conf_interval[1]:.3f})\")\n",
        "print(f\"CI - Differnece between means: ({ci_low:.3f}, {ci_high:.3f})\")"
      ],
      "metadata": {
        "colab": {
          "base_uri": "https://localhost:8080/"
        },
        "id": "OIPT4JFdU0Sz",
        "outputId": "8aaab948-8e4e-4f71-e15f-6bcb8ae4a5da"
      },
      "execution_count": 35,
      "outputs": [
        {
          "output_type": "stream",
          "name": "stdout",
          "text": [
            "CI - Males: (9.208, 10.432)\n",
            "CI - Females: (9.195, 10.205)\n",
            "CI - Differnece between means: (-0.270, 0.510)\n"
          ]
        }
      ]
    },
    {
      "cell_type": "markdown",
      "source": [
        "For male students, the interval is (9.208, 10.432). This means we can be 95% confident that the true mean time spent on cell phones by male students per week lies within this range.\n",
        "\n",
        "For female students, the interval is (9.195, 10.205). Similarly, this interval gives us a 95% confidence level that the true mean time for female students falls within this range.\n",
        "\n",
        "For the difference between the means of the two populations, the interval is (-0.270, 0.510). This interval contains zero, which indicates that the difference in means could be zero; hence, there isn't a significant difference between the two means at the 95% confidence level. This aligns with the earlier p-value result, supporting the conclusion that there is no significant difference between the mean time male and female students spend on cell phones per week."
      ],
      "metadata": {
        "id": "Z5qeeXJMfFZj"
      }
    },
    {
      "cell_type": "markdown",
      "source": [
        "#Further Needs"
      ],
      "metadata": {
        "id": "3304u-9gfMHV"
      }
    },
    {
      "cell_type": "markdown",
      "source": [
        "##Sample Power Analysis"
      ],
      "metadata": {
        "id": "Ifn5mKFlfPCi"
      }
    },
    {
      "cell_type": "code",
      "source": [
        "# parameters for power analysis\n",
        "effect_size = (male_mean - female_mean) / ((male_std + female_std) / 2)\n",
        "alpha = 0.05  # Significance level\n",
        "power = 0.8   # Desired power\n",
        "\n",
        "# power analysis\n",
        "analysis = TTestIndPower()\n",
        "sample_size = analysis.solve_power(effect_size=effect_size, power=power, alpha=alpha, ratio=1.0, alternative='two-sided')\n",
        "\n",
        "print(f\"Sample size required for the power of {power} and alpha of {alpha}: {sample_size:.2f}\")"
      ],
      "metadata": {
        "colab": {
          "base_uri": "https://localhost:8080/"
        },
        "id": "K_G1rnXMWZJu",
        "outputId": "6ada9c77-16a7-43f5-8597-9e5447ddac98"
      },
      "execution_count": 44,
      "outputs": [
        {
          "output_type": "stream",
          "name": "stdout",
          "text": [
            "Sample size required for the power of 0.8 and alpha of 0.05: 4209.83\n"
          ]
        }
      ]
    },
    {
      "cell_type": "markdown",
      "source": [
        "Sample Size Required for Adequate Power: The calculation suggests that you would need a sample size of approximately 4209.83 (which would be rounded up to 4210) participants per group to achieve a power of 0.8 with an alpha of 0.05, given the effect size observed in your data. This is a very large sample size, which suggests that the effect size you are trying to detect is very small. Achieving a study of this size may not be practical or necessary, especially if the effect size is so small that it has little practical significance."
      ],
      "metadata": {
        "id": "93q_u_aqfrer"
      }
    },
    {
      "cell_type": "markdown",
      "source": [
        "#Recommendations"
      ],
      "metadata": {
        "id": "OUMkhHU3gMch"
      }
    },
    {
      "cell_type": "markdown",
      "source": [
        "In practical terms, data suggests that:\n",
        "\n",
        "*   The effect size between the groups is so small that a very large sample size would be needed to detect it with high power.\n",
        "*   With the current sample sizes, the study does not have enough power to reliably detect the difference.\n",
        "\n",
        "You would need to consider whether it is worth pursuing a larger sample to detect such a small effect, or whether resources could be better used on studies with potentially more significant outcomes.\n",
        "\n",
        "\n",
        "\n"
      ],
      "metadata": {
        "id": "dCp7yvYagOSb"
      }
    }
  ]
}