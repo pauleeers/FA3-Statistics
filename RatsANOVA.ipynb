{
  "nbformat": 4,
  "nbformat_minor": 0,
  "metadata": {
    "colab": {
      "provenance": [],
      "toc_visible": true
    },
    "kernelspec": {
      "name": "python3",
      "display_name": "Python 3"
    },
    "language_info": {
      "name": "python"
    }
  },
  "cells": [
    {
      "cell_type": "markdown",
      "source": [
        "#Rats Exploration ANOVA"
      ],
      "metadata": {
        "id": "PEpaYakgNh0M"
      }
    },
    {
      "cell_type": "markdown",
      "source": [
        "#Importing Libraries and Loading Dataset"
      ],
      "metadata": {
        "id": "ZfaZ1XZXNnxG"
      }
    },
    {
      "cell_type": "code",
      "execution_count": 10,
      "metadata": {
        "id": "gSqBpDWPJa17"
      },
      "outputs": [],
      "source": [
        "import pandas as pd\n",
        "import scipy.stats as stats\n",
        "import matplotlib.pyplot as plt\n",
        "import seaborn as sns\n",
        "from scipy.stats import shapiro, levene\n",
        "from statsmodels.stats.multicomp import pairwise_tukeyhsd"
      ]
    },
    {
      "cell_type": "code",
      "source": [
        "df = pd.read_csv('RatEx.csv')"
      ],
      "metadata": {
        "id": "0CbB8cJoK_GM"
      },
      "execution_count": 2,
      "outputs": []
    },
    {
      "cell_type": "markdown",
      "source": [
        "#Checking for Assumptions"
      ],
      "metadata": {
        "id": "mrpm7lyjNsRN"
      }
    },
    {
      "cell_type": "markdown",
      "source": [
        "##Normality"
      ],
      "metadata": {
        "id": "S4CapNrHNvif"
      }
    },
    {
      "cell_type": "code",
      "source": [
        "shapiro_shape = shapiro(df[df['Stimuli'] == 'Shape']['Time'])\n",
        "shapiro_pattern = shapiro(df[df['Stimuli'] == 'Pattern']['Time'])\n",
        "shapiro_picture = shapiro(df[df['Stimuli'] == 'Picture']['Time'])\n",
        "print(shapiro_shape)\n",
        "print(shapiro_pattern)\n",
        "print(shapiro_picture)"
      ],
      "metadata": {
        "colab": {
          "base_uri": "https://localhost:8080/"
        },
        "id": "-BHr-_1XLDoM",
        "outputId": "c77b2eae-80c3-441b-b8ac-4b4720fa2bf3"
      },
      "execution_count": 13,
      "outputs": [
        {
          "output_type": "stream",
          "name": "stdout",
          "text": [
            "ShapiroResult(statistic=0.943737804889679, pvalue=0.5479545593261719)\n",
            "ShapiroResult(statistic=0.9500510692596436, pvalue=0.6377314925193787)\n",
            "ShapiroResult(statistic=0.9151579737663269, pvalue=0.24829529225826263)\n"
          ]
        }
      ]
    },
    {
      "cell_type": "markdown",
      "source": [
        "##Homogeneity"
      ],
      "metadata": {
        "id": "0_OeSs8vNy73"
      }
    },
    {
      "cell_type": "code",
      "source": [
        "levene_test = levene(df[df['Stimuli'] == 'Shape']['Time'],\n",
        "                     df[df['Stimuli'] == 'Pattern']['Time'],\n",
        "                     df[df['Stimuli'] == 'Picture']['Time'])\n",
        "print(levene_test)"
      ],
      "metadata": {
        "colab": {
          "base_uri": "https://localhost:8080/"
        },
        "id": "Ec3lDg7DL28T",
        "outputId": "14294ee7-a4eb-44e7-e66a-2f013d67e61c"
      },
      "execution_count": 6,
      "outputs": [
        {
          "output_type": "stream",
          "name": "stdout",
          "text": [
            "LeveneResult(statistic=0.43132798942236117, pvalue=0.6532556922411884)\n"
          ]
        }
      ]
    },
    {
      "cell_type": "code",
      "source": [
        "# Plotting the data for visual inspection\n",
        "plt.figure(figsize=(8, 6))\n",
        "sns.boxplot(x='Stimuli', y='Time', data=df)\n",
        "plt.title('Exploration Time across Different Stimuli')\n",
        "plt.ylabel('Exploration Time (seconds)')\n",
        "plt.xlabel('Type of Stimuli')\n",
        "plt.show()"
      ],
      "metadata": {
        "colab": {
          "base_uri": "https://localhost:8080/",
          "height": 564
        },
        "id": "AwqNtA_rL4Nd",
        "outputId": "18d431b7-169d-4de9-9170-f1209995ad6e"
      },
      "execution_count": 12,
      "outputs": [
        {
          "output_type": "display_data",
          "data": {
            "text/plain": [
              "<Figure size 800x600 with 1 Axes>"
            ],
            "image/png": "[encoded data removed]"
          },
          "metadata": {}
        }
      ]
    },
    {
      "cell_type": "markdown",
      "source": [
        "#Conducting ANOVA: One-way ANOVA"
      ],
      "metadata": {
        "id": "X6u7YuiTN3h6"
      }
    },
    {
      "cell_type": "code",
      "source": [
        "anova_result = stats.f_oneway(df[df['Stimuli'] == 'Shape']['Time'],\n",
        "                              df[df['Stimuli'] == 'Pattern']['Time'],\n",
        "                              df[df['Stimuli'] == 'Picture']['Time'])\n",
        "\n",
        "anova_result"
      ],
      "metadata": {
        "colab": {
          "base_uri": "https://localhost:8080/"
        },
        "id": "AymFemrwMJ3l",
        "outputId": "c11dc6fe-8bd5-4ad0-97d4-f6195a8bac77"
      },
      "execution_count": 9,
      "outputs": [
        {
          "output_type": "execute_result",
          "data": {
            "text/plain": [
              "F_onewayResult(statistic=62.08885876263247, pvalue=6.531739771892168e-12)"
            ]
          },
          "metadata": {},
          "execution_count": 9
        }
      ]
    },
    {
      "cell_type": "markdown",
      "source": [
        "#Post-hoc: Tukey's HSD"
      ],
      "metadata": {
        "id": "HEuq-W5CN9DT"
      }
    },
    {
      "cell_type": "code",
      "source": [
        "tukey_result = pairwise_tukeyhsd(endog=df['Time'], groups=df['Stimuli'], alpha=0.05)\n",
        "\n",
        "tukey_result.summary()"
      ],
      "metadata": {
        "colab": {
          "base_uri": "https://localhost:8080/",
          "height": 137
        },
        "id": "h-hXzlV-MpKh",
        "outputId": "3281f246-a255-41bc-d235-1200ddcc263e"
      },
      "execution_count": 11,
      "outputs": [
        {
          "output_type": "execute_result",
          "data": {
            "text/plain": [
              "<class 'statsmodels.iolib.table.SimpleTable'>"
            ],
            "text/html": [
              "<table class=\"simpletable\">\n",
              "<caption>Multiple Comparison of Means - Tukey HSD, FWER=0.05</caption>\n",
              "<tr>\n",
              "  <th>group1</th>  <th>group2</th>  <th>meandiff</th>  <th>p-adj</th>  <th>lower</th>   <th>upper</th>  <th>reject</th>\n",
              "</tr>\n",
              "<tr>\n",
              "  <td>Pattern</td> <td>Picture</td>  <td>1.0667</td>  <td>0.0003</td> <td>0.4668</td>  <td>1.6665</td>   <td>True</td> \n",
              "</tr>\n",
              "<tr>\n",
              "  <td>Pattern</td>  <td>Shape</td>   <td>-1.6375</td>   <td>0.0</td>  <td>-2.2374</td> <td>-1.0376</td>  <td>True</td> \n",
              "</tr>\n",
              "<tr>\n",
              "  <td>Picture</td>  <td>Shape</td>   <td>-2.7042</td>   <td>0.0</td>  <td>-3.304</td>  <td>-2.1043</td>  <td>True</td> \n",
              "</tr>\n",
              "</table>"
            ],
            "text/latex": "\\begin{center}\n\\begin{tabular}{ccccccc}\n\\toprule\n\\textbf{group1} & \\textbf{group2} & \\textbf{meandiff} & \\textbf{p-adj} & \\textbf{lower} & \\textbf{upper} & \\textbf{reject}  \\\\\n\\midrule\n    Pattern     &     Picture     &       1.0667      &     0.0003     &     0.4668     &     1.6665     &       True       \\\\\n    Pattern     &      Shape      &      -1.6375      &      0.0       &    -2.2374     &    -1.0376     &       True       \\\\\n    Picture     &      Shape      &      -2.7042      &      0.0       &     -3.304     &    -2.1043     &       True       \\\\\n\\bottomrule\n\\end{tabular}\n%\\caption{Multiple Comparison of Means - Tukey HSD, FWER=0.05}\n\\end{center}"
          },
          "metadata": {},
          "execution_count": 11
        }
      ]
    },
    {
      "cell_type": "markdown",
      "source": [
        "#Conclusion"
      ],
      "metadata": {
        "id": "LzoU2xyaNg31"
      }
    },
    {
      "cell_type": "markdown",
      "source": [
        "The one-way ANOVA revealed a significant difference in exploration times across the three types of stimuli. Post-hoc comparisons using Tukey's HSD test indicated that exploration times were significantly different between patterns and pictures and between pictures and shapes, but not between patterns and shapes. The findings suggest that rats respond differently to various visual stimuli, with significant variations in exploration times."
      ],
      "metadata": {
        "id": "_cNwpkRzOLdf"
      }
    }
  ]
}