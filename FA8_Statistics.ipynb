{
  "nbformat": 4,
  "nbformat_minor": 0,
  "metadata": {
    "colab": {
      "provenance": [],
      "toc_visible": true
    },
    "kernelspec": {
      "name": "python3",
      "display_name": "Python 3"
    },
    "language_info": {
      "name": "python"
    }
  },
  "cells": [
    {
      "cell_type": "markdown",
      "source": [
        "#FA8 - Cristobal"
      ],
      "metadata": {
        "id": "Pk-6q6y2ti4B"
      }
    },
    {
      "cell_type": "code",
      "execution_count": 10,
      "metadata": {
        "id": "-SwMdFYTtBJO"
      },
      "outputs": [],
      "source": [
        "import pandas as pd\n",
        "import seaborn as sns\n",
        "import matplotlib.pyplot as plt\n",
        "from scipy.stats import shapiro, levene, f_oneway\n",
        "from statsmodels.stats.multicomp import pairwise_tukeyhsd"
      ]
    },
    {
      "cell_type": "markdown",
      "source": [
        "#Loading Dataset"
      ],
      "metadata": {
        "id": "s1yMGRu_tmw0"
      }
    },
    {
      "cell_type": "code",
      "source": [
        "df = pd.read_csv('PlantGrowth.csv')\n",
        "df.head()"
      ],
      "metadata": {
        "colab": {
          "base_uri": "https://localhost:8080/",
          "height": 206
        },
        "id": "PvFj5XC7tcEu",
        "outputId": "aa056fff-1c26-4da2-ebe0-7bcbbfc0213a"
      },
      "execution_count": 2,
      "outputs": [
        {
          "output_type": "execute_result",
          "data": {
            "text/plain": [
              "   weight group\n",
              "0    4.17  ctrl\n",
              "1    5.58  ctrl\n",
              "2    5.18  ctrl\n",
              "3    6.11  ctrl\n",
              "4    4.50  ctrl"
            ],
            "text/html": [
              "\n",
              "  <div id=\"df-bc07c1ea-d9b9-42a3-b992-187b22764388\" class=\"colab-df-container\">\n",
              "    <div>\n",
              "<style scoped>\n",
              "    .dataframe tbody tr th:only-of-type {\n",
              "        vertical-align: middle;\n",
              "    }\n",
              "\n",
              "    .dataframe tbody tr th {\n",
              "        vertical-align: top;\n",
              "    }\n",
              "\n",
              "    .dataframe thead th {\n",
              "        text-align: right;\n",
              "    }\n",
              "</style>\n",
              "<table border=\"1\" class=\"dataframe\">\n",
              "  <thead>\n",
              "    <tr style=\"text-align: right;\">\n",
              "      <th></th>\n",
              "      <th>weight</th>\n",
              "      <th>group</th>\n",
              "    </tr>\n",
              "  </thead>\n",
              "  <tbody>\n",
              "    <tr>\n",
              "      <th>0</th>\n",
              "      <td>4.17</td>\n",
              "      <td>ctrl</td>\n",
              "    </tr>\n",
              "    <tr>\n",
              "      <th>1</th>\n",
              "      <td>5.58</td>\n",
              "      <td>ctrl</td>\n",
              "    </tr>\n",
              "    <tr>\n",
              "      <th>2</th>\n",
              "      <td>5.18</td>\n",
              "      <td>ctrl</td>\n",
              "    </tr>\n",
              "    <tr>\n",
              "      <th>3</th>\n",
              "      <td>6.11</td>\n",
              "      <td>ctrl</td>\n",
              "    </tr>\n",
              "    <tr>\n",
              "      <th>4</th>\n",
              "      <td>4.50</td>\n",
              "      <td>ctrl</td>\n",
              "    </tr>\n",
              "  </tbody>\n",
              "</table>\n",
              "</div>\n",
              "    <div class=\"colab-df-buttons\">\n",
              "\n",
              "  <div class=\"colab-df-container\">\n",
              "    <button class=\"colab-df-convert\" onclick=\"convertToInteractive('df-bc07c1ea-d9b9-42a3-b992-187b22764388')\"\n",
              "            title=\"Convert this dataframe to an interactive table.\"\n",
              "            style=\"display:none;\">\n",
              "\n",
              "  <svg xmlns=\"http://www.w3.org/2000/svg\" height=\"24px\" viewBox=\"0 -960 960 960\">\n",
              "    <path d=\"M120-120v-720h720v720H120Zm60-500h600v-160H180v160Zm220 220h160v-160H400v160Zm0 220h160v-160H400v160ZM180-400h160v-160H180v160Zm440 0h160v-160H620v160ZM180-180h160v-160H180v160Zm440 0h160v-160H620v160Z\"/>\n",
              "  </svg>\n",
              "    </button>\n",
              "\n",
              "  <style>\n",
              "    .colab-df-container {\n",
              "      display:flex;\n",
              "      gap: 12px;\n",
              "    }\n",
              "\n",
              "    .colab-df-convert {\n",
              "      background-color: #E8F0FE;\n",
              "      border: none;\n",
              "      border-radius: 50%;\n",
              "      cursor: pointer;\n",
              "      display: none;\n",
              "      fill: #1967D2;\n",
              "      height: 32px;\n",
              "      padding: 0 0 0 0;\n",
              "      width: 32px;\n",
              "    }\n",
              "\n",
              "    .colab-df-convert:hover {\n",
              "      background-color: #E2EBFA;\n",
              "      box-shadow: 0px 1px 2px rgba(60, 64, 67, 0.3), 0px 1px 3px 1px rgba(60, 64, 67, 0.15);\n",
              "      fill: #174EA6;\n",
              "    }\n",
              "\n",
              "    .colab-df-buttons div {\n",
              "      margin-bottom: 4px;\n",
              "    }\n",
              "\n",
              "    [theme=dark] .colab-df-convert {\n",
              "      background-color: #3B4455;\n",
              "      fill: #D2E3FC;\n",
              "    }\n",
              "\n",
              "    [theme=dark] .colab-df-convert:hover {\n",
              "      background-color: #434B5C;\n",
              "      box-shadow: 0px 1px 3px 1px rgba(0, 0, 0, 0.15);\n",
              "      filter: drop-shadow(0px 1px 2px rgba(0, 0, 0, 0.3));\n",
              "      fill: #FFFFFF;\n",
              "    }\n",
              "  </style>\n",
              "\n",
              "    <script>\n",
              "      const buttonEl =\n",
              "        document.querySelector('#df-bc07c1ea-d9b9-42a3-b992-187b22764388 button.colab-df-convert');\n",
              "      buttonEl.style.display =\n",
              "        google.colab.kernel.accessAllowed ? 'block' : 'none';\n",
              "\n",
              "      async function convertToInteractive(key) {\n",
              "        const element = document.querySelector('#df-bc07c1ea-d9b9-42a3-b992-187b22764388');\n",
              "        const dataTable =\n",
              "          await google.colab.kernel.invokeFunction('convertToInteractive',\n",
              "                                                    [key], {});\n",
              "        if (!dataTable) return;\n",
              "\n",
              "        const docLinkHtml = 'Like what you see? Visit the ' +\n",
              "          '<a target=\"_blank\" href=https://colab.research.google.com/notebooks/data_table.ipynb>data table notebook</a>'\n",
              "          + ' to learn more about interactive tables.';\n",
              "        element.innerHTML = '';\n",
              "        dataTable['output_type'] = 'display_data';\n",
              "        await google.colab.output.renderOutput(dataTable, element);\n",
              "        const docLink = document.createElement('div');\n",
              "        docLink.innerHTML = docLinkHtml;\n",
              "        element.appendChild(docLink);\n",
              "      }\n",
              "    </script>\n",
              "  </div>\n",
              "\n",
              "\n",
              "<div id=\"df-ce93b438-c26a-4b67-bb88-3d471af4acec\">\n",
              "  <button class=\"colab-df-quickchart\" onclick=\"quickchart('df-ce93b438-c26a-4b67-bb88-3d471af4acec')\"\n",
              "            title=\"Suggest charts\"\n",
              "            style=\"display:none;\">\n",
              "\n",
              "<svg xmlns=\"http://www.w3.org/2000/svg\" height=\"24px\"viewBox=\"0 0 24 24\"\n",
              "     width=\"24px\">\n",
              "    <g>\n",
              "        <path d=\"M19 3H5c-1.1 0-2 .9-2 2v14c0 1.1.9 2 2 2h14c1.1 0 2-.9 2-2V5c0-1.1-.9-2-2-2zM9 17H7v-7h2v7zm4 0h-2V7h2v10zm4 0h-2v-4h2v4z\"/>\n",
              "    </g>\n",
              "</svg>\n",
              "  </button>\n",
              "\n",
              "<style>\n",
              "  .colab-df-quickchart {\n",
              "      --bg-color: #E8F0FE;\n",
              "      --fill-color: #1967D2;\n",
              "      --hover-bg-color: #E2EBFA;\n",
              "      --hover-fill-color: #174EA6;\n",
              "      --disabled-fill-color: #AAA;\n",
              "      --disabled-bg-color: #DDD;\n",
              "  }\n",
              "\n",
              "  [theme=dark] .colab-df-quickchart {\n",
              "      --bg-color: #3B4455;\n",
              "      --fill-color: #D2E3FC;\n",
              "      --hover-bg-color: #434B5C;\n",
              "      --hover-fill-color: #FFFFFF;\n",
              "      --disabled-bg-color: #3B4455;\n",
              "      --disabled-fill-color: #666;\n",
              "  }\n",
              "\n",
              "  .colab-df-quickchart {\n",
              "    background-color: var(--bg-color);\n",
              "    border: none;\n",
              "    border-radius: 50%;\n",
              "    cursor: pointer;\n",
              "    display: none;\n",
              "    fill: var(--fill-color);\n",
              "    height: 32px;\n",
              "    padding: 0;\n",
              "    width: 32px;\n",
              "  }\n",
              "\n",
              "  .colab-df-quickchart:hover {\n",
              "    background-color: var(--hover-bg-color);\n",
              "    box-shadow: 0 1px 2px rgba(60, 64, 67, 0.3), 0 1px 3px 1px rgba(60, 64, 67, 0.15);\n",
              "    fill: var(--button-hover-fill-color);\n",
              "  }\n",
              "\n",
              "  .colab-df-quickchart-complete:disabled,\n",
              "  .colab-df-quickchart-complete:disabled:hover {\n",
              "    background-color: var(--disabled-bg-color);\n",
              "    fill: var(--disabled-fill-color);\n",
              "    box-shadow: none;\n",
              "  }\n",
              "\n",
              "  .colab-df-spinner {\n",
              "    border: 2px solid var(--fill-color);\n",
              "    border-color: transparent;\n",
              "    border-bottom-color: var(--fill-color);\n",
              "    animation:\n",
              "      spin 1s steps(1) infinite;\n",
              "  }\n",
              "\n",
              "  @keyframes spin {\n",
              "    0% {\n",
              "      border-color: transparent;\n",
              "      border-bottom-color: var(--fill-color);\n",
              "      border-left-color: var(--fill-color);\n",
              "    }\n",
              "    20% {\n",
              "      border-color: transparent;\n",
              "      border-left-color: var(--fill-color);\n",
              "      border-top-color: var(--fill-color);\n",
              "    }\n",
              "    30% {\n",
              "      border-color: transparent;\n",
              "      border-left-color: var(--fill-color);\n",
              "      border-top-color: var(--fill-color);\n",
              "      border-right-color: var(--fill-color);\n",
              "    }\n",
              "    40% {\n",
              "      border-color: transparent;\n",
              "      border-right-color: var(--fill-color);\n",
              "      border-top-color: var(--fill-color);\n",
              "    }\n",
              "    60% {\n",
              "      border-color: transparent;\n",
              "      border-right-color: var(--fill-color);\n",
              "    }\n",
              "    80% {\n",
              "      border-color: transparent;\n",
              "      border-right-color: var(--fill-color);\n",
              "      border-bottom-color: var(--fill-color);\n",
              "    }\n",
              "    90% {\n",
              "      border-color: transparent;\n",
              "      border-bottom-color: var(--fill-color);\n",
              "    }\n",
              "  }\n",
              "</style>\n",
              "\n",
              "  <script>\n",
              "    async function quickchart(key) {\n",
              "      const quickchartButtonEl =\n",
              "        document.querySelector('#' + key + ' button');\n",
              "      quickchartButtonEl.disabled = true;  // To prevent multiple clicks.\n",
              "      quickchartButtonEl.classList.add('colab-df-spinner');\n",
              "      try {\n",
              "        const charts = await google.colab.kernel.invokeFunction(\n",
              "            'suggestCharts', [key], {});\n",
              "      } catch (error) {\n",
              "        console.error('Error during call to suggestCharts:', error);\n",
              "      }\n",
              "      quickchartButtonEl.classList.remove('colab-df-spinner');\n",
              "      quickchartButtonEl.classList.add('colab-df-quickchart-complete');\n",
              "    }\n",
              "    (() => {\n",
              "      let quickchartButtonEl =\n",
              "        document.querySelector('#df-ce93b438-c26a-4b67-bb88-3d471af4acec button');\n",
              "      quickchartButtonEl.style.display =\n",
              "        google.colab.kernel.accessAllowed ? 'block' : 'none';\n",
              "    })();\n",
              "  </script>\n",
              "</div>\n",
              "    </div>\n",
              "  </div>\n"
            ]
          },
          "metadata": {},
          "execution_count": 2
        }
      ]
    },
    {
      "cell_type": "markdown",
      "source": [
        "#Checking Assumptions"
      ],
      "metadata": {
        "id": "rSARxnHyt1ij"
      }
    },
    {
      "cell_type": "markdown",
      "source": [
        "##Assumption 1: Dependent Variable"
      ],
      "metadata": {
        "id": "Hb1Cw0sAt62n"
      }
    },
    {
      "cell_type": "markdown",
      "source": [
        "'weight' is taken as the dependent variable."
      ],
      "metadata": {
        "id": "P8DGc9dXuSpq"
      }
    },
    {
      "cell_type": "markdown",
      "source": [
        "#Assumption 2: Independent Variable"
      ],
      "metadata": {
        "id": "AD_KhKyHuXWb"
      }
    },
    {
      "cell_type": "markdown",
      "source": [
        "'group' is taken as the independent variable, with categories 'ctrl','trt1', and 'trt2'."
      ],
      "metadata": {
        "id": "A3XoKIiPufre"
      }
    },
    {
      "cell_type": "markdown",
      "source": [
        "#Assumption 3: Independence of Observation"
      ],
      "metadata": {
        "id": "7oLpwh4TvJ-v"
      }
    },
    {
      "cell_type": "markdown",
      "source": [
        "The values in the observations are independent of eachother."
      ],
      "metadata": {
        "id": "Y4xMdiDsvOj8"
      }
    },
    {
      "cell_type": "markdown",
      "source": [
        "#Assumption 4: Outliers"
      ],
      "metadata": {
        "id": "GvApWJmtuzmE"
      }
    },
    {
      "cell_type": "code",
      "source": [
        "plt.figure(figsize=(10, 6))\n",
        "sns.boxplot(x='group', y='weight', data=df)\n",
        "plt.title('Boxplot of Weights by Group')\n",
        "plt.show()"
      ],
      "metadata": {
        "colab": {
          "base_uri": "https://localhost:8080/",
          "height": 564
        },
        "id": "EsXNagpJtyEE",
        "outputId": "069270d8-273c-40eb-a5b1-776bf090779d"
      },
      "execution_count": 3,
      "outputs": [
        {
          "output_type": "display_data",
          "data": {
            "text/plain": [
              "<Figure size 1000x600 with 1 Axes>"
            ],
            "image/png": "[encoded data removed]"
          },
          "metadata": {}
        }
      ]
    },
    {
      "cell_type": "markdown",
      "source": [
        "There are no significant outliers that can affect the test."
      ],
      "metadata": {
        "id": "5f5obPn5u_yL"
      }
    },
    {
      "cell_type": "markdown",
      "source": [
        "#Assumption 5: Normality"
      ],
      "metadata": {
        "id": "NhLmryNevYcH"
      }
    },
    {
      "cell_type": "code",
      "source": [
        "print(\"Normality Test (Shapiro-Wilk) Results:\")\n",
        "for group in df['group'].unique():\n",
        "    group_data = df[df['group'] == group]['weight']\n",
        "    stat, p = shapiro(group_data)\n",
        "    print(f\"{group}: Statistics={stat}, p-value={p}\")"
      ],
      "metadata": {
        "colab": {
          "base_uri": "https://localhost:8080/"
        },
        "id": "TFZ_4c3jwuw4",
        "outputId": "17db6500-5c15-4f89-9cd9-980f57ba5851"
      },
      "execution_count": 7,
      "outputs": [
        {
          "output_type": "stream",
          "name": "stdout",
          "text": [
            "Normality Test (Shapiro-Wilk) Results:\n",
            "ctrl: Statistics=0.9566815495491028, p-value=0.7474744915962219\n",
            "trt1: Statistics=0.9304108619689941, p-value=0.451945960521698\n",
            "trt2: Statistics=0.941005289554596, p-value=0.5642533898353577\n"
          ]
        }
      ]
    },
    {
      "cell_type": "markdown",
      "source": [
        "All p-values are greater than 0.05, suggesting that the weight distribution in each group does not significantly deviate from normality."
      ],
      "metadata": {
        "id": "Y1LilYL5xHjd"
      }
    },
    {
      "cell_type": "markdown",
      "source": [
        "#Assumption 6: Homogeneity of Variances"
      ],
      "metadata": {
        "id": "diP-mQ5xvvEO"
      }
    },
    {
      "cell_type": "code",
      "source": [
        "print(\"\\nHomogeneity of Variances (Levene's Test) Results:\")\n",
        "stat, p = levene(df[df['group'] == 'ctrl']['weight'],\n",
        "                 df[df['group'] == 'trt1']['weight'],\n",
        "                 df[df['group'] == 'trt2']['weight'])\n",
        "print(f\"Statistics={stat}, p-value={p}\")"
      ],
      "metadata": {
        "colab": {
          "base_uri": "https://localhost:8080/"
        },
        "id": "_m6CVORMvy5U",
        "outputId": "cf0bb38e-8758-4991-9aa9-4326b1ce72a9"
      },
      "execution_count": 8,
      "outputs": [
        {
          "output_type": "stream",
          "name": "stdout",
          "text": [
            "\n",
            "Homogeneity of Variances (Levene's Test) Results:\n",
            "Statistics=1.1191856948703909, p-value=0.3412266241254737\n"
          ]
        }
      ]
    },
    {
      "cell_type": "markdown",
      "source": [
        "The p-value is greater than 0.05, indicating that the assumption of homogeneity of variances is not violated."
      ],
      "metadata": {
        "id": "0ckKBf26xPol"
      }
    },
    {
      "cell_type": "markdown",
      "source": [
        "#Computation"
      ],
      "metadata": {
        "id": "768loFSDxS_N"
      }
    },
    {
      "cell_type": "markdown",
      "source": [
        "###ANOVA"
      ],
      "metadata": {
        "id": "zHQ4ZC90xp_4"
      }
    },
    {
      "cell_type": "code",
      "source": [
        "anova_results = f_oneway(\n",
        "    df[df['group'] == 'ctrl']['weight'],\n",
        "    df[df['group'] == 'trt1']['weight'],\n",
        "    df[df['group'] == 'trt2']['weight']\n",
        ")"
      ],
      "metadata": {
        "id": "PzFujoHXxUX1"
      },
      "execution_count": 11,
      "outputs": []
    },
    {
      "cell_type": "code",
      "source": [
        "f_statistic = anova_results.statistic\n",
        "p_value = anova_results.pvalue\n",
        "print(\"\\nANOVA Results:\")\n",
        "print(f\"F-Statistic: {f_statistic}, P-Value: {p_value}\")"
      ],
      "metadata": {
        "colab": {
          "base_uri": "https://localhost:8080/"
        },
        "id": "zkBwlFf3xjpK",
        "outputId": "8e258165-8a08-4947-8d65-f24c31ef3b85"
      },
      "execution_count": 13,
      "outputs": [
        {
          "output_type": "stream",
          "name": "stdout",
          "text": [
            "\n",
            "ANOVA Results:\n",
            "F-Statistic: 4.846087862380136, P-Value: 0.0159099583256229\n"
          ]
        }
      ]
    },
    {
      "cell_type": "code",
      "source": [
        "desc_stats = df.groupby('group')['weight'].describe()\n",
        "print(\"\\nDescriptive Statistics by Group:\")\n",
        "print(desc_stats)"
      ],
      "metadata": {
        "colab": {
          "base_uri": "https://localhost:8080/"
        },
        "id": "VlT9e1TMx12h",
        "outputId": "1fe91caa-fea0-4f7f-8b29-f7280b29f606"
      },
      "execution_count": 14,
      "outputs": [
        {
          "output_type": "stream",
          "name": "stdout",
          "text": [
            "\n",
            "Descriptive Statistics by Group:\n",
            "       count   mean       std   min     25%    50%     75%   max\n",
            "group                                                           \n",
            "ctrl    10.0  5.032  0.583091  4.17  4.5500  5.155  5.2925  6.11\n",
            "trt1    10.0  4.661  0.793676  3.59  4.2075  4.550  4.8700  6.03\n",
            "trt2    10.0  5.526  0.442573  4.92  5.2675  5.435  5.7350  6.31\n"
          ]
        }
      ]
    },
    {
      "cell_type": "markdown",
      "source": [
        "The ANOVA results suggest that there is a statistically significant difference between the means of at least two groups since the p-value is less than 0.05."
      ],
      "metadata": {
        "id": "It6KZvdny22-"
      }
    },
    {
      "cell_type": "markdown",
      "source": [
        "###Post-hoc: Tukey's HSD"
      ],
      "metadata": {
        "id": "4SZ3lxaMxsMK"
      }
    },
    {
      "cell_type": "code",
      "source": [
        "tukey = pairwise_tukeyhsd(endog=df['weight'], groups=df['group'], alpha=0.05)\n",
        "tukey_results = pd.DataFrame(\n",
        "    data=tukey._results_table.data[1:],\n",
        "    columns=tukey._results_table.data[0]\n",
        ")"
      ],
      "metadata": {
        "id": "BdXvx-UWxnfT"
      },
      "execution_count": 15,
      "outputs": []
    },
    {
      "cell_type": "code",
      "source": [
        "print(\"\\nTukey's HSD Test Results:\")\n",
        "print(tukey_results)"
      ],
      "metadata": {
        "colab": {
          "base_uri": "https://localhost:8080/"
        },
        "id": "B8WnZOMuyHr2",
        "outputId": "b1bd314e-3ec1-4544-f841-0aee074efb4c"
      },
      "execution_count": 16,
      "outputs": [
        {
          "output_type": "stream",
          "name": "stdout",
          "text": [
            "\n",
            "Tukey's HSD Test Results:\n",
            "  group1 group2  meandiff   p-adj   lower   upper  reject\n",
            "0   ctrl   trt1    -0.371  0.3909 -1.0622  0.3202   False\n",
            "1   ctrl   trt2     0.494  0.1980 -0.1972  1.1852   False\n",
            "2   trt1   trt2     0.865  0.0120  0.1738  1.5562    True\n"
          ]
        }
      ]
    },
    {
      "cell_type": "markdown",
      "source": [
        "There is a statistically significant difference between the mean weights of trt1 and trt2 groups."
      ],
      "metadata": {
        "id": "OJt5ShHgytc5"
      }
    }
  ]
}