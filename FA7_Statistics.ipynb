{
  "nbformat": 4,
  "nbformat_minor": 0,
  "metadata": {
    "colab": {
      "provenance": [],
      "toc_visible": true
    },
    "kernelspec": {
      "name": "python3",
      "display_name": "Python 3"
    },
    "language_info": {
      "name": "python"
    }
  },
  "cells": [
    {
      "cell_type": "markdown",
      "source": [
        "#FA7 - Cristobal"
      ],
      "metadata": {
        "id": "BWi-ZW87cXGK"
      }
    },
    {
      "cell_type": "code",
      "execution_count": 11,
      "metadata": {
        "id": "aqSizKynQGJ9"
      },
      "outputs": [],
      "source": [
        "import pandas as pd\n",
        "import seaborn as sns\n",
        "import matplotlib.pyplot as plt\n",
        "import scipy.stats as stats\n",
        "import ptitprince as pt\n",
        "from scipy.stats import shapiro\n",
        "from scipy.stats import ttest_ind"
      ]
    },
    {
      "cell_type": "markdown",
      "source": [
        "#Loading Data"
      ],
      "metadata": {
        "id": "Clw_17baYSWC"
      }
    },
    {
      "cell_type": "code",
      "source": [
        "df = pd.read_csv(\"Eye Movements.csv\")\n",
        "df"
      ],
      "metadata": {
        "colab": {
          "base_uri": "https://localhost:8080/",
          "height": 1000
        },
        "id": "N6XQGGnfSxLL",
        "outputId": "03446eec-2f85-46a7-f5c7-268e15b4ff02"
      },
      "execution_count": 12,
      "outputs": [
        {
          "output_type": "execute_result",
          "data": {
            "text/plain": [
              "    ParticipantNumber   Condition  CriticalRecall\n",
              "0                   1  Horizontal               4\n",
              "1                   3    Fixation              14\n",
              "2                   4  Horizontal              12\n",
              "3                   6    Fixation               4\n",
              "4                   7  Horizontal              11\n",
              "5                   9    Fixation              23\n",
              "6                  10  Horizontal              16\n",
              "7                  12    Fixation              22\n",
              "8                  13  Horizontal               9\n",
              "9                  15    Fixation              16\n",
              "10                 16  Horizontal              12\n",
              "11                 19  Horizontal               3\n",
              "12                 21    Fixation              10\n",
              "13                 22  Horizontal              11\n",
              "14                 24    Fixation              16\n",
              "15                 25  Horizontal              10\n",
              "16                 27    Fixation              18\n",
              "17                 28  Horizontal               8\n",
              "18                 30    Fixation              23\n",
              "19                 31  Horizontal              12\n",
              "20                 33    Fixation              10\n",
              "21                 34  Horizontal               6\n",
              "22                 36    Fixation              13\n",
              "23                 39    Fixation              23\n",
              "24                 42    Fixation               4\n",
              "25                 43  Horizontal              11\n",
              "26                 45    Fixation              23\n",
              "27                 46  Horizontal              16\n",
              "28                 48    Fixation              10\n",
              "29                 49  Horizontal              11\n",
              "30                 51    Fixation              18\n",
              "31                 52  Horizontal               8\n",
              "32                 54    Fixation              11\n",
              "33                 55  Horizontal              15\n",
              "34                 57    Fixation              11\n",
              "35                 58  Horizontal              10\n",
              "36                 60    Fixation              25\n",
              "37                 61  Horizontal              15\n",
              "38                 63    Fixation               9\n",
              "39                 64  Horizontal              14\n",
              "40                 66    Fixation              18\n",
              "41                 67  Horizontal               9\n",
              "42                 70  Horizontal              11\n",
              "43                 73  Horizontal              13\n",
              "44                 75    Fixation              11\n",
              "45                 76  Horizontal               3\n",
              "46                 78    Fixation              11\n",
              "47                 79  Horizontal              22\n",
              "48                 81    Fixation              24"
            ],
            "text/html": [
              "\n",
              "  <div id=\"df-da345bba-3506-4ea5-8623-cadc18933df2\" class=\"colab-df-container\">\n",
              "    <div>\n",
              "<style scoped>\n",
              "    .dataframe tbody tr th:only-of-type {\n",
              "        vertical-align: middle;\n",
              "    }\n",
              "\n",
              "    .dataframe tbody tr th {\n",
              "        vertical-align: top;\n",
              "    }\n",
              "\n",
              "    .dataframe thead th {\n",
              "        text-align: right;\n",
              "    }\n",
              "</style>\n",
              "<table border=\"1\" class=\"dataframe\">\n",
              "  <thead>\n",
              "    <tr style=\"text-align: right;\">\n",
              "      <th></th>\n",
              "      <th>ParticipantNumber</th>\n",
              "      <th>Condition</th>\n",
              "      <th>CriticalRecall</th>\n",
              "    </tr>\n",
              "  </thead>\n",
              "  <tbody>\n",
              "    <tr>\n",
              "      <th>0</th>\n",
              "      <td>1</td>\n",
              "      <td>Horizontal</td>\n",
              "      <td>4</td>\n",
              "    </tr>\n",
              "    <tr>\n",
              "      <th>1</th>\n",
              "      <td>3</td>\n",
              "      <td>Fixation</td>\n",
              "      <td>14</td>\n",
              "    </tr>\n",
              "    <tr>\n",
              "      <th>2</th>\n",
              "      <td>4</td>\n",
              "      <td>Horizontal</td>\n",
              "      <td>12</td>\n",
              "    </tr>\n",
              "    <tr>\n",
              "      <th>3</th>\n",
              "      <td>6</td>\n",
              "      <td>Fixation</td>\n",
              "      <td>4</td>\n",
              "    </tr>\n",
              "    <tr>\n",
              "      <th>4</th>\n",
              "      <td>7</td>\n",
              "      <td>Horizontal</td>\n",
              "      <td>11</td>\n",
              "    </tr>\n",
              "    <tr>\n",
              "      <th>5</th>\n",
              "      <td>9</td>\n",
              "      <td>Fixation</td>\n",
              "      <td>23</td>\n",
              "    </tr>\n",
              "    <tr>\n",
              "      <th>6</th>\n",
              "      <td>10</td>\n",
              "      <td>Horizontal</td>\n",
              "      <td>16</td>\n",
              "    </tr>\n",
              "    <tr>\n",
              "      <th>7</th>\n",
              "      <td>12</td>\n",
              "      <td>Fixation</td>\n",
              "      <td>22</td>\n",
              "    </tr>\n",
              "    <tr>\n",
              "      <th>8</th>\n",
              "      <td>13</td>\n",
              "      <td>Horizontal</td>\n",
              "      <td>9</td>\n",
              "    </tr>\n",
              "    <tr>\n",
              "      <th>9</th>\n",
              "      <td>15</td>\n",
              "      <td>Fixation</td>\n",
              "      <td>16</td>\n",
              "    </tr>\n",
              "    <tr>\n",
              "      <th>10</th>\n",
              "      <td>16</td>\n",
              "      <td>Horizontal</td>\n",
              "      <td>12</td>\n",
              "    </tr>\n",
              "    <tr>\n",
              "      <th>11</th>\n",
              "      <td>19</td>\n",
              "      <td>Horizontal</td>\n",
              "      <td>3</td>\n",
              "    </tr>\n",
              "    <tr>\n",
              "      <th>12</th>\n",
              "      <td>21</td>\n",
              "      <td>Fixation</td>\n",
              "      <td>10</td>\n",
              "    </tr>\n",
              "    <tr>\n",
              "      <th>13</th>\n",
              "      <td>22</td>\n",
              "      <td>Horizontal</td>\n",
              "      <td>11</td>\n",
              "    </tr>\n",
              "    <tr>\n",
              "      <th>14</th>\n",
              "      <td>24</td>\n",
              "      <td>Fixation</td>\n",
              "      <td>16</td>\n",
              "    </tr>\n",
              "    <tr>\n",
              "      <th>15</th>\n",
              "      <td>25</td>\n",
              "      <td>Horizontal</td>\n",
              "      <td>10</td>\n",
              "    </tr>\n",
              "    <tr>\n",
              "      <th>16</th>\n",
              "      <td>27</td>\n",
              "      <td>Fixation</td>\n",
              "      <td>18</td>\n",
              "    </tr>\n",
              "    <tr>\n",
              "      <th>17</th>\n",
              "      <td>28</td>\n",
              "      <td>Horizontal</td>\n",
              "      <td>8</td>\n",
              "    </tr>\n",
              "    <tr>\n",
              "      <th>18</th>\n",
              "      <td>30</td>\n",
              "      <td>Fixation</td>\n",
              "      <td>23</td>\n",
              "    </tr>\n",
              "    <tr>\n",
              "      <th>19</th>\n",
              "      <td>31</td>\n",
              "      <td>Horizontal</td>\n",
              "      <td>12</td>\n",
              "    </tr>\n",
              "    <tr>\n",
              "      <th>20</th>\n",
              "      <td>33</td>\n",
              "      <td>Fixation</td>\n",
              "      <td>10</td>\n",
              "    </tr>\n",
              "    <tr>\n",
              "      <th>21</th>\n",
              "      <td>34</td>\n",
              "      <td>Horizontal</td>\n",
              "      <td>6</td>\n",
              "    </tr>\n",
              "    <tr>\n",
              "      <th>22</th>\n",
              "      <td>36</td>\n",
              "      <td>Fixation</td>\n",
              "      <td>13</td>\n",
              "    </tr>\n",
              "    <tr>\n",
              "      <th>23</th>\n",
              "      <td>39</td>\n",
              "      <td>Fixation</td>\n",
              "      <td>23</td>\n",
              "    </tr>\n",
              "    <tr>\n",
              "      <th>24</th>\n",
              "      <td>42</td>\n",
              "      <td>Fixation</td>\n",
              "      <td>4</td>\n",
              "    </tr>\n",
              "    <tr>\n",
              "      <th>25</th>\n",
              "      <td>43</td>\n",
              "      <td>Horizontal</td>\n",
              "      <td>11</td>\n",
              "    </tr>\n",
              "    <tr>\n",
              "      <th>26</th>\n",
              "      <td>45</td>\n",
              "      <td>Fixation</td>\n",
              "      <td>23</td>\n",
              "    </tr>\n",
              "    <tr>\n",
              "      <th>27</th>\n",
              "      <td>46</td>\n",
              "      <td>Horizontal</td>\n",
              "      <td>16</td>\n",
              "    </tr>\n",
              "    <tr>\n",
              "      <th>28</th>\n",
              "      <td>48</td>\n",
              "      <td>Fixation</td>\n",
              "      <td>10</td>\n",
              "    </tr>\n",
              "    <tr>\n",
              "      <th>29</th>\n",
              "      <td>49</td>\n",
              "      <td>Horizontal</td>\n",
              "      <td>11</td>\n",
              "    </tr>\n",
              "    <tr>\n",
              "      <th>30</th>\n",
              "      <td>51</td>\n",
              "      <td>Fixation</td>\n",
              "      <td>18</td>\n",
              "    </tr>\n",
              "    <tr>\n",
              "      <th>31</th>\n",
              "      <td>52</td>\n",
              "      <td>Horizontal</td>\n",
              "      <td>8</td>\n",
              "    </tr>\n",
              "    <tr>\n",
              "      <th>32</th>\n",
              "      <td>54</td>\n",
              "      <td>Fixation</td>\n",
              "      <td>11</td>\n",
              "    </tr>\n",
              "    <tr>\n",
              "      <th>33</th>\n",
              "      <td>55</td>\n",
              "      <td>Horizontal</td>\n",
              "      <td>15</td>\n",
              "    </tr>\n",
              "    <tr>\n",
              "      <th>34</th>\n",
              "      <td>57</td>\n",
              "      <td>Fixation</td>\n",
              "      <td>11</td>\n",
              "    </tr>\n",
              "    <tr>\n",
              "      <th>35</th>\n",
              "      <td>58</td>\n",
              "      <td>Horizontal</td>\n",
              "      <td>10</td>\n",
              "    </tr>\n",
              "    <tr>\n",
              "      <th>36</th>\n",
              "      <td>60</td>\n",
              "      <td>Fixation</td>\n",
              "      <td>25</td>\n",
              "    </tr>\n",
              "    <tr>\n",
              "      <th>37</th>\n",
              "      <td>61</td>\n",
              "      <td>Horizontal</td>\n",
              "      <td>15</td>\n",
              "    </tr>\n",
              "    <tr>\n",
              "      <th>38</th>\n",
              "      <td>63</td>\n",
              "      <td>Fixation</td>\n",
              "      <td>9</td>\n",
              "    </tr>\n",
              "    <tr>\n",
              "      <th>39</th>\n",
              "      <td>64</td>\n",
              "      <td>Horizontal</td>\n",
              "      <td>14</td>\n",
              "    </tr>\n",
              "    <tr>\n",
              "      <th>40</th>\n",
              "      <td>66</td>\n",
              "      <td>Fixation</td>\n",
              "      <td>18</td>\n",
              "    </tr>\n",
              "    <tr>\n",
              "      <th>41</th>\n",
              "      <td>67</td>\n",
              "      <td>Horizontal</td>\n",
              "      <td>9</td>\n",
              "    </tr>\n",
              "    <tr>\n",
              "      <th>42</th>\n",
              "      <td>70</td>\n",
              "      <td>Horizontal</td>\n",
              "      <td>11</td>\n",
              "    </tr>\n",
              "    <tr>\n",
              "      <th>43</th>\n",
              "      <td>73</td>\n",
              "      <td>Horizontal</td>\n",
              "      <td>13</td>\n",
              "    </tr>\n",
              "    <tr>\n",
              "      <th>44</th>\n",
              "      <td>75</td>\n",
              "      <td>Fixation</td>\n",
              "      <td>11</td>\n",
              "    </tr>\n",
              "    <tr>\n",
              "      <th>45</th>\n",
              "      <td>76</td>\n",
              "      <td>Horizontal</td>\n",
              "      <td>3</td>\n",
              "    </tr>\n",
              "    <tr>\n",
              "      <th>46</th>\n",
              "      <td>78</td>\n",
              "      <td>Fixation</td>\n",
              "      <td>11</td>\n",
              "    </tr>\n",
              "    <tr>\n",
              "      <th>47</th>\n",
              "      <td>79</td>\n",
              "      <td>Horizontal</td>\n",
              "      <td>22</td>\n",
              "    </tr>\n",
              "    <tr>\n",
              "      <th>48</th>\n",
              "      <td>81</td>\n",
              "      <td>Fixation</td>\n",
              "      <td>24</td>\n",
              "    </tr>\n",
              "  </tbody>\n",
              "</table>\n",
              "</div>\n",
              "    <div class=\"colab-df-buttons\">\n",
              "\n",
              "  <div class=\"colab-df-container\">\n",
              "    <button class=\"colab-df-convert\" onclick=\"convertToInteractive('df-da345bba-3506-4ea5-8623-cadc18933df2')\"\n",
              "            title=\"Convert this dataframe to an interactive table.\"\n",
              "            style=\"display:none;\">\n",
              "\n",
              "  <svg xmlns=\"http://www.w3.org/2000/svg\" height=\"24px\" viewBox=\"0 -960 960 960\">\n",
              "    <path d=\"M120-120v-720h720v720H120Zm60-500h600v-160H180v160Zm220 220h160v-160H400v160Zm0 220h160v-160H400v160ZM180-400h160v-160H180v160Zm440 0h160v-160H620v160ZM180-180h160v-160H180v160Zm440 0h160v-160H620v160Z\"/>\n",
              "  </svg>\n",
              "    </button>\n",
              "\n",
              "  <style>\n",
              "    .colab-df-container {\n",
              "      display:flex;\n",
              "      gap: 12px;\n",
              "    }\n",
              "\n",
              "    .colab-df-convert {\n",
              "      background-color: #E8F0FE;\n",
              "      border: none;\n",
              "      border-radius: 50%;\n",
              "      cursor: pointer;\n",
              "      display: none;\n",
              "      fill: #1967D2;\n",
              "      height: 32px;\n",
              "      padding: 0 0 0 0;\n",
              "      width: 32px;\n",
              "    }\n",
              "\n",
              "    .colab-df-convert:hover {\n",
              "      background-color: #E2EBFA;\n",
              "      box-shadow: 0px 1px 2px rgba(60, 64, 67, 0.3), 0px 1px 3px 1px rgba(60, 64, 67, 0.15);\n",
              "      fill: #174EA6;\n",
              "    }\n",
              "\n",
              "    .colab-df-buttons div {\n",
              "      margin-bottom: 4px;\n",
              "    }\n",
              "\n",
              "    [theme=dark] .colab-df-convert {\n",
              "      background-color: #3B4455;\n",
              "      fill: #D2E3FC;\n",
              "    }\n",
              "\n",
              "    [theme=dark] .colab-df-convert:hover {\n",
              "      background-color: #434B5C;\n",
              "      box-shadow: 0px 1px 3px 1px rgba(0, 0, 0, 0.15);\n",
              "      filter: drop-shadow(0px 1px 2px rgba(0, 0, 0, 0.3));\n",
              "      fill: #FFFFFF;\n",
              "    }\n",
              "  </style>\n",
              "\n",
              "    <script>\n",
              "      const buttonEl =\n",
              "        document.querySelector('#df-da345bba-3506-4ea5-8623-cadc18933df2 button.colab-df-convert');\n",
              "      buttonEl.style.display =\n",
              "        google.colab.kernel.accessAllowed ? 'block' : 'none';\n",
              "\n",
              "      async function convertToInteractive(key) {\n",
              "        const element = document.querySelector('#df-da345bba-3506-4ea5-8623-cadc18933df2');\n",
              "        const dataTable =\n",
              "          await google.colab.kernel.invokeFunction('convertToInteractive',\n",
              "                                                    [key], {});\n",
              "        if (!dataTable) return;\n",
              "\n",
              "        const docLinkHtml = 'Like what you see? Visit the ' +\n",
              "          '<a target=\"_blank\" href=https://colab.research.google.com/notebooks/data_table.ipynb>data table notebook</a>'\n",
              "          + ' to learn more about interactive tables.';\n",
              "        element.innerHTML = '';\n",
              "        dataTable['output_type'] = 'display_data';\n",
              "        await google.colab.output.renderOutput(dataTable, element);\n",
              "        const docLink = document.createElement('div');\n",
              "        docLink.innerHTML = docLinkHtml;\n",
              "        element.appendChild(docLink);\n",
              "      }\n",
              "    </script>\n",
              "  </div>\n",
              "\n",
              "\n",
              "<div id=\"df-597cbd48-b134-41a0-a8d2-2fe758f953bc\">\n",
              "  <button class=\"colab-df-quickchart\" onclick=\"quickchart('df-597cbd48-b134-41a0-a8d2-2fe758f953bc')\"\n",
              "            title=\"Suggest charts\"\n",
              "            style=\"display:none;\">\n",
              "\n",
              "<svg xmlns=\"http://www.w3.org/2000/svg\" height=\"24px\"viewBox=\"0 0 24 24\"\n",
              "     width=\"24px\">\n",
              "    <g>\n",
              "        <path d=\"M19 3H5c-1.1 0-2 .9-2 2v14c0 1.1.9 2 2 2h14c1.1 0 2-.9 2-2V5c0-1.1-.9-2-2-2zM9 17H7v-7h2v7zm4 0h-2V7h2v10zm4 0h-2v-4h2v4z\"/>\n",
              "    </g>\n",
              "</svg>\n",
              "  </button>\n",
              "\n",
              "<style>\n",
              "  .colab-df-quickchart {\n",
              "      --bg-color: #E8F0FE;\n",
              "      --fill-color: #1967D2;\n",
              "      --hover-bg-color: #E2EBFA;\n",
              "      --hover-fill-color: #174EA6;\n",
              "      --disabled-fill-color: #AAA;\n",
              "      --disabled-bg-color: #DDD;\n",
              "  }\n",
              "\n",
              "  [theme=dark] .colab-df-quickchart {\n",
              "      --bg-color: #3B4455;\n",
              "      --fill-color: #D2E3FC;\n",
              "      --hover-bg-color: #434B5C;\n",
              "      --hover-fill-color: #FFFFFF;\n",
              "      --disabled-bg-color: #3B4455;\n",
              "      --disabled-fill-color: #666;\n",
              "  }\n",
              "\n",
              "  .colab-df-quickchart {\n",
              "    background-color: var(--bg-color);\n",
              "    border: none;\n",
              "    border-radius: 50%;\n",
              "    cursor: pointer;\n",
              "    display: none;\n",
              "    fill: var(--fill-color);\n",
              "    height: 32px;\n",
              "    padding: 0;\n",
              "    width: 32px;\n",
              "  }\n",
              "\n",
              "  .colab-df-quickchart:hover {\n",
              "    background-color: var(--hover-bg-color);\n",
              "    box-shadow: 0 1px 2px rgba(60, 64, 67, 0.3), 0 1px 3px 1px rgba(60, 64, 67, 0.15);\n",
              "    fill: var(--button-hover-fill-color);\n",
              "  }\n",
              "\n",
              "  .colab-df-quickchart-complete:disabled,\n",
              "  .colab-df-quickchart-complete:disabled:hover {\n",
              "    background-color: var(--disabled-bg-color);\n",
              "    fill: var(--disabled-fill-color);\n",
              "    box-shadow: none;\n",
              "  }\n",
              "\n",
              "  .colab-df-spinner {\n",
              "    border: 2px solid var(--fill-color);\n",
              "    border-color: transparent;\n",
              "    border-bottom-color: var(--fill-color);\n",
              "    animation:\n",
              "      spin 1s steps(1) infinite;\n",
              "  }\n",
              "\n",
              "  @keyframes spin {\n",
              "    0% {\n",
              "      border-color: transparent;\n",
              "      border-bottom-color: var(--fill-color);\n",
              "      border-left-color: var(--fill-color);\n",
              "    }\n",
              "    20% {\n",
              "      border-color: transparent;\n",
              "      border-left-color: var(--fill-color);\n",
              "      border-top-color: var(--fill-color);\n",
              "    }\n",
              "    30% {\n",
              "      border-color: transparent;\n",
              "      border-left-color: var(--fill-color);\n",
              "      border-top-color: var(--fill-color);\n",
              "      border-right-color: var(--fill-color);\n",
              "    }\n",
              "    40% {\n",
              "      border-color: transparent;\n",
              "      border-right-color: var(--fill-color);\n",
              "      border-top-color: var(--fill-color);\n",
              "    }\n",
              "    60% {\n",
              "      border-color: transparent;\n",
              "      border-right-color: var(--fill-color);\n",
              "    }\n",
              "    80% {\n",
              "      border-color: transparent;\n",
              "      border-right-color: var(--fill-color);\n",
              "      border-bottom-color: var(--fill-color);\n",
              "    }\n",
              "    90% {\n",
              "      border-color: transparent;\n",
              "      border-bottom-color: var(--fill-color);\n",
              "    }\n",
              "  }\n",
              "</style>\n",
              "\n",
              "  <script>\n",
              "    async function quickchart(key) {\n",
              "      const quickchartButtonEl =\n",
              "        document.querySelector('#' + key + ' button');\n",
              "      quickchartButtonEl.disabled = true;  // To prevent multiple clicks.\n",
              "      quickchartButtonEl.classList.add('colab-df-spinner');\n",
              "      try {\n",
              "        const charts = await google.colab.kernel.invokeFunction(\n",
              "            'suggestCharts', [key], {});\n",
              "      } catch (error) {\n",
              "        console.error('Error during call to suggestCharts:', error);\n",
              "      }\n",
              "      quickchartButtonEl.classList.remove('colab-df-spinner');\n",
              "      quickchartButtonEl.classList.add('colab-df-quickchart-complete');\n",
              "    }\n",
              "    (() => {\n",
              "      let quickchartButtonEl =\n",
              "        document.querySelector('#df-597cbd48-b134-41a0-a8d2-2fe758f953bc button');\n",
              "      quickchartButtonEl.style.display =\n",
              "        google.colab.kernel.accessAllowed ? 'block' : 'none';\n",
              "    })();\n",
              "  </script>\n",
              "</div>\n",
              "    </div>\n",
              "  </div>\n"
            ]
          },
          "metadata": {},
          "execution_count": 12
        }
      ]
    },
    {
      "cell_type": "markdown",
      "source": [
        "#Assumptions"
      ],
      "metadata": {
        "id": "qFbJ4H9CYVaB"
      }
    },
    {
      "cell_type": "markdown",
      "source": [
        "##Assumption 1: Scale of Measurement"
      ],
      "metadata": {
        "id": "ddj77qcfYXAQ"
      }
    },
    {
      "cell_type": "markdown",
      "source": [
        "The scale of measurement is taken from the 'CriticalRecall' column and is assumed continuous."
      ],
      "metadata": {
        "id": "capybTPDYdcS"
      }
    },
    {
      "cell_type": "markdown",
      "source": [
        "##Assumption 2: Group Categorization\n"
      ],
      "metadata": {
        "id": "FydG3QbdYmtL"
      }
    },
    {
      "cell_type": "markdown",
      "source": [
        "The 'Condition' column is taken as the independent variable, with 'Horizontal' and 'Fixation' taken as grouping categories."
      ],
      "metadata": {
        "id": "YU-4ctuAYrF8"
      }
    },
    {
      "cell_type": "code",
      "source": [
        "conditions = df['Condition'].unique()"
      ],
      "metadata": {
        "id": "-PbHmie2TFoV"
      },
      "execution_count": 13,
      "outputs": []
    },
    {
      "cell_type": "markdown",
      "source": [
        "##Assumption 3: Independence of Observations"
      ],
      "metadata": {
        "id": "1o9P4rhUY3NH"
      }
    },
    {
      "cell_type": "markdown",
      "source": [
        "Assumed by the design of the experiment where the dataset is taken from.\n"
      ],
      "metadata": {
        "id": "O-4j3LnpZBZR"
      }
    },
    {
      "cell_type": "markdown",
      "source": [
        "##Assumption 4: Normality"
      ],
      "metadata": {
        "id": "kF9ss6OiZRvS"
      }
    },
    {
      "cell_type": "markdown",
      "source": [
        "Checking for Normality in the Condition column."
      ],
      "metadata": {
        "id": "mLLK0EHgZXnZ"
      }
    },
    {
      "cell_type": "code",
      "source": [
        "plt.figure(figsize=(10, 4))\n",
        "for i, group in enumerate(conditions):\n",
        "    plt.subplot(1, len(conditions), i+1)\n",
        "    sns.histplot(df[df['Condition'] == group]['CriticalRecall'], kde=True)\n",
        "    plt.title(f'Group \"{group}\" Critical Recall Distribution')\n",
        "plt.tight_layout()\n",
        "plt.show()"
      ],
      "metadata": {
        "colab": {
          "base_uri": "https://localhost:8080/",
          "height": 407
        },
        "id": "mOCu2sC8TzXu",
        "outputId": "7f1409dc-bce3-4460-b139-e7f0f84d8f78"
      },
      "execution_count": 14,
      "outputs": [
        {
          "output_type": "display_data",
          "data": {
            "text/plain": [
              "<Figure size 1000x400 with 2 Axes>"
            ],
            "image/png": "[encoded data removed]"
          },
          "metadata": {}
        }
      ]
    },
    {
      "cell_type": "code",
      "source": [
        "shapiro_horizontal = shapiro(horizontal)\n",
        "shapiro_fixation = shapiro(fixation)\n",
        "horizontal_statistic, horizontal_p_value = shapiro_horizontal\n",
        "fixation_statistic, fixation_p_value = shapiro_fixation\n",
        "print(f\"Shapiro-Wilk Test for Horizontal Group\\nStatistic: {horizontal_statistic:.4f}, P-value: {horizontal_p_value:.4f}\")\n",
        "print(f\"Shapiro-Wilk Test for Fixation Group\\nStatistic: {fixation_statistic:.4f}, P-value: {fixation_p_value:.4f}\")"
      ],
      "metadata": {
        "colab": {
          "base_uri": "https://localhost:8080/"
        },
        "id": "CxH8-zLmZvrX",
        "outputId": "8b8bf40f-de3b-4db2-9022-df01865fb86e"
      },
      "execution_count": 18,
      "outputs": [
        {
          "output_type": "stream",
          "name": "stdout",
          "text": [
            "Shapiro-Wilk Test for Horizontal Group\n",
            "Statistic: 0.9591, P-value: 0.3965\n",
            "Shapiro-Wilk Test for Fixation Group\n",
            "Statistic: 0.9260, P-value: 0.0794\n"
          ]
        }
      ]
    },
    {
      "cell_type": "markdown",
      "source": [
        "Data is normal."
      ],
      "metadata": {
        "id": "pyto9kmzZxqi"
      }
    },
    {
      "cell_type": "markdown",
      "source": [
        "##Assumption 5: Homogeneity of Varriance"
      ],
      "metadata": {
        "id": "dRykUcAeZ-u-"
      }
    },
    {
      "cell_type": "markdown",
      "source": [
        "\n",
        "Homogeneity of varriance is tested using Levene's test."
      ],
      "metadata": {
        "id": "2RSkP2araG7E"
      }
    },
    {
      "cell_type": "code",
      "source": [
        "horizontal = df[df['Condition'] == 'Horizontal']['CriticalRecall']\n",
        "fixation = df[df['Condition'] == 'Fixation']['CriticalRecall']\n",
        "levenes_test = stats.levene(horizontal, fixation)\n",
        "levene_statistic, levene_p_value = levenes_test\n",
        "\n",
        "levene_result_str = f\"Levene's Test Statistic: {levene_statistic:.4f}\\nLevene's Test P-value: {levene_p_value:.4f}\"\n",
        "print(levene_result_str)"
      ],
      "metadata": {
        "colab": {
          "base_uri": "https://localhost:8080/"
        },
        "id": "HU4GIkyVUEuc",
        "outputId": "1aa43bc6-825e-4464-a1f1-ca9df3c0806b"
      },
      "execution_count": 16,
      "outputs": [
        {
          "output_type": "stream",
          "name": "stdout",
          "text": [
            "Levene's Test Statistic: 7.5043\n",
            "Levene's Test P-value: 0.0087\n"
          ]
        }
      ]
    },
    {
      "cell_type": "markdown",
      "source": [
        "Since the p-value is less than .05, there is a significant difference between the variances."
      ],
      "metadata": {
        "id": "KYsGMTPiaJYU"
      }
    },
    {
      "cell_type": "markdown",
      "source": [
        "##Independent T-test"
      ],
      "metadata": {
        "id": "qNSVniAGaeGw"
      }
    },
    {
      "cell_type": "markdown",
      "source": [
        "Since there is a significant variance, we wil do the Welch's T-test."
      ],
      "metadata": {
        "id": "kNM9asNvakKl"
      }
    },
    {
      "cell_type": "code",
      "source": [
        "t_statistic, p_value = ttest_ind(horizontal, fixation, equal_var=False)\n",
        "print(f\"Welch's t-test Statistic: {t_statistic:.4f}, P-value: {p_value:.4f}\")"
      ],
      "metadata": {
        "colab": {
          "base_uri": "https://localhost:8080/"
        },
        "id": "Zq9eqWmxa3nb",
        "outputId": "f6e21056-c6bc-4af9-ba53-da109de114b3"
      },
      "execution_count": 17,
      "outputs": [
        {
          "output_type": "stream",
          "name": "stdout",
          "text": [
            "Welch's t-test Statistic: -2.8234, P-value: 0.0074\n"
          ]
        }
      ]
    },
    {
      "cell_type": "markdown",
      "source": [
        "##Conclusion"
      ],
      "metadata": {
        "id": "mqG0Vz_6cEHU"
      }
    },
    {
      "cell_type": "markdown",
      "source": [
        "In this study, we conducted Welch's t-test to compare the CriticalRecall scores between two conditions: Horizontal and Fixation. The results revealed a significant difference between the groups, with a test statistic of -2.8234 and a p-value of 0.0074. These findings led us to reject the null hypothesis, indicating that the difference in CriticalRecall scores is statistically significant and not due to random chance. Specifically, participants in the Horizontal condition demonstrated lower CriticalRecall scores compared to those in the Fixation condition."
      ],
      "metadata": {
        "id": "pWKHN6xzcGgF"
      }
    }
  ]
}