{
  "nbformat": 4,
  "nbformat_minor": 0,
  "metadata": {
    "colab": {
      "provenance": []
    },
    "kernelspec": {
      "name": "python3",
      "display_name": "Python 3"
    },
    "language_info": {
      "name": "python"
    }
  },
  "cells": [
    {
      "cell_type": "code",
      "execution_count": 11,
      "metadata": {
        "id": "dB80Du7DG-48"
      },
      "outputs": [],
      "source": [
        "import pandas as pd\n",
        "import re\n",
        "import numpy as np"
      ]
    },
    {
      "cell_type": "code",
      "source": [
        "set = [88, 45, 53, 86, 33, 86, 85, 30, 89, 53,41, 96, 56, 38, 62, 71, 51, 86, 68, 29, 28, 47, 33, 37, 25, 36, 33, 94, 73, 46, 42, 34, 79, 72, 88, 99, 82, 62, 57, 42, 28, 55, 67, 62, 60, 96, 61, 57, 75, 93, 34, 75, 53, 32, 28, 73, 51, 69, 91, 35]"
      ],
      "metadata": {
        "id": "G6CQ_Uk9HOTX"
      },
      "execution_count": 13,
      "outputs": []
    },
    {
      "cell_type": "code",
      "source": [
        "q1 = np.percentile(set,25)\n",
        "q2 = np.percentile(set,50)\n",
        "q3 = np.percentile(set,75)\n",
        "\n",
        "d9 = np.percentile(set,90)\n",
        "p95 = np.percentile(set,95)\n",
        "\n",
        "print(f\"Q1 is: {q1}\")\n",
        "print(f\"Q2 is: {q2}\")\n",
        "print(f\"Q3 is: {q3}\")\n",
        "print(f\"D9 is: {d9}\")\n",
        "print(f\"P95 is: {p95}\")"
      ],
      "metadata": {
        "colab": {
          "base_uri": "https://localhost:8080/"
        },
        "id": "UE1d860GJi7q",
        "outputId": "17fa3416-020d-499c-8899-df2906c76772"
      },
      "execution_count": 19,
      "outputs": [
        {
          "output_type": "stream",
          "name": "stdout",
          "text": [
            "Q1 is: 37.75\n",
            "Q2 is: 57.0\n",
            "Q3 is: 76.0\n",
            "D9 is: 89.2\n",
            "P95 is: 94.1\n"
          ]
        }
      ]
    }
  ]
}